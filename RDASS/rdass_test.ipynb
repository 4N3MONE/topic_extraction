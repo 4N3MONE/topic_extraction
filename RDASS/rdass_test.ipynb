{
 "cells": [
  {
   "cell_type": "code",
   "execution_count": 9,
   "metadata": {},
   "outputs": [],
   "source": [
    "from sentence_transformers import SentenceTransformer, util\n",
    "sbert_for_RDASS = SentenceTransformer('snunlp/KR-SBERT-V40K-klueNLI-augSTS')"
   ]
  },
  {
   "cell_type": "code",
   "execution_count": 10,
   "metadata": {},
   "outputs": [],
   "source": [
    "def compute_RDASS(prediction : str, reference : str, document : str):\n",
    "    global sbert_for_RDASS\n",
    "    v_p, v_r, v_d = sbert_for_RDASS.encode([prediction, reference, document])\n",
    "    s_pr = util.cos_sim(v_p, v_r)\n",
    "    s_pd = util.cos_sim(v_p, v_d)\n",
    "    rdass_score = (s_pr + s_pd) / 2\n",
    "    return rdass_score"
   ]
  },
  {
   "cell_type": "code",
   "execution_count": 23,
   "metadata": {},
   "outputs": [
    {
     "data": {
      "text/plain": [
       "tensor([[0.2392]])"
      ]
     },
     "execution_count": 23,
     "metadata": {},
     "output_type": "execute_result"
    }
   ],
   "source": [
    "d = '다음 코끼리를 분류합니다.'\n",
    "p = '숫자 세기'\n",
    "r = '코끼리 분류'\n",
    "\n",
    "compute_RDASS(p, r, d)"
   ]
  }
 ],
 "metadata": {
  "kernelspec": {
   "display_name": "proj_skt_topic",
   "language": "python",
   "name": "python3"
  },
  "language_info": {
   "codemirror_mode": {
    "name": "ipython",
    "version": 3
   },
   "file_extension": ".py",
   "mimetype": "text/x-python",
   "name": "python",
   "nbconvert_exporter": "python",
   "pygments_lexer": "ipython3",
   "version": "3.9.16"
  },
  "orig_nbformat": 4
 },
 "nbformat": 4,
 "nbformat_minor": 2
}
