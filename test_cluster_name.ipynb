{
 "cells": [
  {
   "cell_type": "code",
   "execution_count": 1,
   "metadata": {},
   "outputs": [],
   "source": [
    "from privateManager import get_key\n",
    "from src.chatgpt_handler import ChatGPT\n",
    "#from src.metric import cal_score, get_embeddings\n",
    "#from src.metric_rouge import pos_filter, get_rouge\n",
    "import time\n",
    "from tqdm import tqdm\n",
    "import json"
   ]
  },
  {
   "cell_type": "code",
   "execution_count": 2,
   "metadata": {},
   "outputs": [],
   "source": [
    "def load_data(path='/home/work/deeptext/topic_extraction/data/cluster_simCSE.json'):\n",
    "    with open(path, 'r') as f:\n",
    "        data = json.load(f)\n",
    "    return data\n",
    "\n",
    "def save_data(obj, path='./data/result_01.json'):\n",
    "    with open(path, 'w') as f:\n",
    "        json.dump(obj, f, ensure_ascii=False)"
   ]
  },
  {
   "cell_type": "code",
   "execution_count": 14,
   "metadata": {},
   "outputs": [],
   "source": [
    "# import pandas as pd\n",
    "\n",
    "# data = pd.read_csv('/home/work/deeptext/topic_extraction/umap_hdbscan_clustering/output_diff_hdbscan/cluster_0.05epsilon_best.csv')\n",
    "\n",
    "# data.columns.values[0] = 'topic'\n",
    "\n",
    "# data[:10]\n",
    "\n",
    "# # 빈 딕셔너리 생성\n",
    "# topic_dict = {}\n",
    "\n",
    "# # 데이터프레임을 순회하며 딕셔너리에 데이터 추가\n",
    "# for index, row in data.iterrows():\n",
    "#     label = row['hdbscan_label']\n",
    "#     topic = row['topic']\n",
    "    \n",
    "#     if label not in topic_dict:\n",
    "#         topic_dict[label] = [topic]\n",
    "#     else:\n",
    "#         topic_dict[label].append(topic)\n",
    "# new_data = [{'index': index, 'topics': topics} for index, topics in topic_dict.items()]\n",
    "\n",
    "# def load_data(path='./data/kullm.json'):\n",
    "#     with open(path, 'r') as f:\n",
    "#         data = json.load(f)\n",
    "#     return data\n",
    "\n",
    "# def save_data(obj, path='./data/cluster_diffCSE.json'):\n",
    "#     with open(path, 'w') as f:\n",
    "#         json.dump(obj, f, ensure_ascii=False)\n",
    "\n",
    "# import json\n",
    "# save_data(new_data)"
   ]
  },
  {
   "cell_type": "code",
   "execution_count": 4,
   "metadata": {},
   "outputs": [],
   "source": [
    "ERROR_LIMIT = 20\n",
    "SLEEP_TIME = 0.5\n",
    "chatgpt = ChatGPT(get_key('openai'))\n",
    "data = load_data(path = '/home/work/deeptext/topic_extraction/data/cluster_simCSE.json')\n",
    "new_data = []\n",
    "log = open('./log.txt', 'w')\n",
    "\n",
    "start_index = 0\n",
    "end_index = 10\n"
   ]
  },
  {
   "cell_type": "code",
   "execution_count": 5,
   "metadata": {},
   "outputs": [],
   "source": [
    "sim_data = load_data(path = '/home/work/deeptext/topic_extraction/data/cluster_simCSE.json')\n",
    "diff_data = load_data(path = '/home/work/deeptext/topic_extraction/data/cluster_diffCSE.json')"
   ]
  },
  {
   "cell_type": "code",
   "execution_count": 6,
   "metadata": {},
   "outputs": [
    {
     "name": "stdout",
     "output_type": "stream",
     "text": [
      "9104 9793\n"
     ]
    }
   ],
   "source": [
    "print(len(sim_data), len(diff_data))"
   ]
  },
  {
   "cell_type": "code",
   "execution_count": 18,
   "metadata": {},
   "outputs": [
    {
     "data": {
      "text/plain": [
       "{'index': 957,\n",
       " 'topics': ['쾌활한 사람 묘사 형용사 입력',\n",
       "  '문장 긍정표현',\n",
       "  '긍정적 문장 변환',\n",
       "  '긍정적 편집 문장',\n",
       "  '긍정적인 묘사문 작성',\n",
       "  '부정적 의미로 바꾸기',\n",
       "  '긍정적 의미 문장',\n",
       "  '사람 묘사 긍정적 단어',\n",
       "  '격언 긍정적 변환',\n",
       "  '진술 긍정 바꾸기',\n",
       "  '긍정적인 문장 변경',\n",
       "  '문장에 긍정적인 빛 비추기',\n",
       "  '동물에 대한 긍정적 형용사',\n",
       "  '긍정문 문장 작성',\n",
       "  '낙관주의 표현 문장',\n",
       "  '긍정적 문장 사용 방법',\n",
       "  '긍정적인 문장 작성',\n",
       "  '긍정적인 어조로 다시 표현하기',\n",
       "  '텍스트 긍정적 변환',\n",
       "  '더 긍정적인 문장 작성',\n",
       "  '긍정적 사고의 중요성',\n",
       "  '긍정적인 언어의 중요성',\n",
       "  '긍정적으로 문장을 리프레이밍하기',\n",
       "  '최근 긍정적 경험 댓글 작성',\n",
       "  '긍정적인 문장 다시 작성',\n",
       "  '긍정적인 감정 표현 문장 작성',\n",
       "  '더 긍정적으로 작성하기',\n",
       "  '문구 부정적으로 바꾸기',\n",
       "  '긍정적인 단어 사용 문장 작성',\n",
       "  '부정적 문장 긍정적으로 바꾸기',\n",
       "  '긍정적인 형용사 구성',\n",
       "  '문장 긍정성 강화',\n",
       "  '질문 긍정 변환',\n",
       "  '긍정적인 관점을 반영한 문장 작성']}"
      ]
     },
     "execution_count": 18,
     "metadata": {},
     "output_type": "execute_result"
    }
   ],
   "source": [
    "diff_data[110]"
   ]
  },
  {
   "cell_type": "code",
   "execution_count": 19,
   "metadata": {},
   "outputs": [],
   "source": [
    "chatgpt.request_to_chatgpt_cluster(diff_data[110],model='gpt-4')"
   ]
  },
  {
   "cell_type": "code",
   "execution_count": 9,
   "metadata": {},
   "outputs": [],
   "source": [
    "\n",
    "# for idx in tqdm(range(start_index, end_index)):\n",
    "#     error_count = 0\n",
    "#     new_data.append({\n",
    "#         'idx' : '',\n",
    "#         'cluster_name' : '',\n",
    "#         'topics' :''\n",
    "#     })\n",
    "#     while(True):\n",
    "#         try:\n",
    "#             new_data[-1]['instruction'] = data[idx]['instruction']\n",
    "#             new_data[-1]['topic'] = chatgpt.request_to_chatgpt(data[idx])\n",
    "#             new_data[-1]['score'] = map(func, [new_data[-1]['instruction'], new_data[-1]['topic']])\n",
    "#             log.write(f'{data[idx][\"instruction\"]} -> {new_data[-1][\"topic\"]} ({new_data[-1][\"score\"]})\\n')\n",
    "#             break\n",
    "#         except Exception as error:\n",
    "#             error_count += 1\n",
    "#             time.sleep(SLEEP_TIME)\n",
    "#             log.write(f'ERROR in {idx}: {error}\\n')\n",
    "#             if error_count == ERROR_LIMIT:\n",
    "#                 log.write(f'ERROR count exceed {ERROR_LIMIT}: {idx}\\n')\n",
    "#                 log.close()\n",
    "#                 exit()"
   ]
  }
 ],
 "metadata": {
  "kernelspec": {
   "display_name": "topic_extraction",
   "language": "python",
   "name": "python3"
  },
  "language_info": {
   "codemirror_mode": {
    "name": "ipython",
    "version": 3
   },
   "file_extension": ".py",
   "mimetype": "text/x-python",
   "name": "python",
   "nbconvert_exporter": "python",
   "pygments_lexer": "ipython3",
   "version": "3.9.16"
  },
  "orig_nbformat": 4,
  "vscode": {
   "interpreter": {
    "hash": "9fdfb4fc5bed50e5379ab52eeb8497b12627921b1351954104dd2d04db985ae1"
   }
  }
 },
 "nbformat": 4,
 "nbformat_minor": 2
}
