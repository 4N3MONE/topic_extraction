{
  "cells": [
    {
      "cell_type": "markdown",
      "id": "331951d0-eab2-4657-adec-fe2baaa53ec9",
      "metadata": {
        "id": "331951d0-eab2-4657-adec-fe2baaa53ec9"
      },
      "source": [
        "# UMAP을 이용한 차원축소 및 HDBSCAN을 통한 군집화\n",
        "- colab에서 돌리는 버전"
      ]
    },
    {
      "cell_type": "code",
      "execution_count": 1,
      "id": "R-YZVLhZCLjD",
      "metadata": {
        "colab": {
          "base_uri": "https://localhost:8080/"
        },
        "id": "R-YZVLhZCLjD",
        "outputId": "cdfda86b-a9cc-4a32-8027-8b596de3709b"
      },
      "outputs": [
        {
          "name": "stdout",
          "output_type": "stream",
          "text": [
            "Collecting umap-learn\n",
            "  Downloading umap-learn-0.5.3.tar.gz (88 kB)\n",
            "\u001b[2K     \u001b[90m━━━━━━━━━━━━━━━━━━━━━━━━━━━━━━━━━━━━━━━\u001b[0m \u001b[32m88.2/88.2 kB\u001b[0m \u001b[31m954.5 kB/s\u001b[0m eta \u001b[36m0:00:00\u001b[0m\n",
            "\u001b[?25h  Preparing metadata (setup.py) ... \u001b[?25l\u001b[?25hdone\n",
            "Requirement already satisfied: numpy>=1.17 in /usr/local/lib/python3.10/dist-packages (from umap-learn) (1.22.4)\n",
            "Requirement already satisfied: scikit-learn>=0.22 in /usr/local/lib/python3.10/dist-packages (from umap-learn) (1.2.2)\n",
            "Requirement already satisfied: scipy>=1.0 in /usr/local/lib/python3.10/dist-packages (from umap-learn) (1.10.1)\n",
            "Requirement already satisfied: numba>=0.49 in /usr/local/lib/python3.10/dist-packages (from umap-learn) (0.56.4)\n",
            "Collecting pynndescent>=0.5 (from umap-learn)\n",
            "  Downloading pynndescent-0.5.10.tar.gz (1.1 MB)\n",
            "\u001b[2K     \u001b[90m━━━━━━━━━━━━━━━━━━━━━━━━━━━━━━━━━━━━━━━━\u001b[0m \u001b[32m1.1/1.1 MB\u001b[0m \u001b[31m8.7 MB/s\u001b[0m eta \u001b[36m0:00:00\u001b[0m\n",
            "\u001b[?25h  Preparing metadata (setup.py) ... \u001b[?25l\u001b[?25hdone\n",
            "Requirement already satisfied: tqdm in /usr/local/lib/python3.10/dist-packages (from umap-learn) (4.65.0)\n",
            "Requirement already satisfied: llvmlite<0.40,>=0.39.0dev0 in /usr/local/lib/python3.10/dist-packages (from numba>=0.49->umap-learn) (0.39.1)\n",
            "Requirement already satisfied: setuptools in /usr/local/lib/python3.10/dist-packages (from numba>=0.49->umap-learn) (67.7.2)\n",
            "Requirement already satisfied: joblib>=0.11 in /usr/local/lib/python3.10/dist-packages (from pynndescent>=0.5->umap-learn) (1.3.1)\n",
            "Requirement already satisfied: threadpoolctl>=2.0.0 in /usr/local/lib/python3.10/dist-packages (from scikit-learn>=0.22->umap-learn) (3.2.0)\n",
            "Building wheels for collected packages: umap-learn, pynndescent\n",
            "  Building wheel for umap-learn (setup.py) ... \u001b[?25l\u001b[?25hdone\n",
            "  Created wheel for umap-learn: filename=umap_learn-0.5.3-py3-none-any.whl size=82813 sha256=1779658a1c99fcbd98f9fa6393542fa3215e8e8d88926f85006c0e55e4947d2f\n",
            "  Stored in directory: /root/.cache/pip/wheels/a0/e8/c6/a37ea663620bd5200ea1ba0907ab3c217042c1d035ef606acc\n",
            "  Building wheel for pynndescent (setup.py) ... \u001b[?25l\u001b[?25hdone\n",
            "  Created wheel for pynndescent: filename=pynndescent-0.5.10-py3-none-any.whl size=55621 sha256=bc1fa70f349bea51ac213639abf0aeed03f851a80af86e61ca7afb82a1381ed5\n",
            "  Stored in directory: /root/.cache/pip/wheels/4a/38/5d/f60a40a66a9512b7e5e83517ebc2d1b42d857be97d135f1096\n",
            "Successfully built umap-learn pynndescent\n",
            "Installing collected packages: pynndescent, umap-learn\n",
            "Successfully installed pynndescent-0.5.10 umap-learn-0.5.3\n"
          ]
        }
      ],
      "source": [
        "#UMAP이 없다면 해당 라이브러리 설치 필수\n",
        "!pip install umap-learn"
      ]
    },
    {
      "cell_type": "code",
      "execution_count": 2,
      "id": "PQIPhBZyCKWr",
      "metadata": {
        "colab": {
          "base_uri": "https://localhost:8080/"
        },
        "id": "PQIPhBZyCKWr",
        "outputId": "4f4ad3a5-d1d6-4644-a09b-b503c07b802f"
      },
      "outputs": [
        {
          "name": "stdout",
          "output_type": "stream",
          "text": [
            "Collecting hdbscan\n",
            "  Downloading hdbscan-0.8.33.tar.gz (5.2 MB)\n",
            "\u001b[2K     \u001b[90m━━━━━━━━━━━━━━━━━━━━━━━━━━━━━━━━━━━━━━━━\u001b[0m \u001b[32m5.2/5.2 MB\u001b[0m \u001b[31m15.2 MB/s\u001b[0m eta \u001b[36m0:00:00\u001b[0m\n",
            "\u001b[?25h  Installing build dependencies ... \u001b[?25l\u001b[?25hdone\n",
            "  Getting requirements to build wheel ... \u001b[?25l\u001b[?25hdone\n",
            "  Preparing metadata (pyproject.toml) ... \u001b[?25l\u001b[?25hdone\n",
            "Requirement already satisfied: cython<3,>=0.27 in /usr/local/lib/python3.10/dist-packages (from hdbscan) (0.29.36)\n",
            "Requirement already satisfied: numpy>=1.20 in /usr/local/lib/python3.10/dist-packages (from hdbscan) (1.22.4)\n",
            "Requirement already satisfied: scipy>=1.0 in /usr/local/lib/python3.10/dist-packages (from hdbscan) (1.10.1)\n",
            "Requirement already satisfied: scikit-learn>=0.20 in /usr/local/lib/python3.10/dist-packages (from hdbscan) (1.2.2)\n",
            "Requirement already satisfied: joblib>=1.0 in /usr/local/lib/python3.10/dist-packages (from hdbscan) (1.3.1)\n",
            "Requirement already satisfied: threadpoolctl>=2.0.0 in /usr/local/lib/python3.10/dist-packages (from scikit-learn>=0.20->hdbscan) (3.2.0)\n",
            "Building wheels for collected packages: hdbscan\n",
            "  Building wheel for hdbscan (pyproject.toml) ... \u001b[?25l\u001b[?25hdone\n",
            "  Created wheel for hdbscan: filename=hdbscan-0.8.33-cp310-cp310-linux_x86_64.whl size=3039185 sha256=3489e3fee7e6d6309893744a970a30e6003858f7e8eccec5d81f12dfa24da236\n",
            "  Stored in directory: /root/.cache/pip/wheels/75/0b/3b/dc4f60b7cc455efaefb62883a7483e76f09d06ca81cf87d610\n",
            "Successfully built hdbscan\n",
            "Installing collected packages: hdbscan\n",
            "Successfully installed hdbscan-0.8.33\n"
          ]
        }
      ],
      "source": [
        "#HDBSCAN이 없다면 해당 라이브러리 설치 필수\n",
        "!pip install hdbscan"
      ]
    },
    {
      "cell_type": "code",
      "execution_count": 4,
      "id": "6_y5ih7wGExm",
      "metadata": {
        "colab": {
          "base_uri": "https://localhost:8080/"
        },
        "id": "6_y5ih7wGExm",
        "outputId": "830a44aa-9305-4317-fab4-20257fe7bddc"
      },
      "outputs": [
        {
          "name": "stdout",
          "output_type": "stream",
          "text": [
            "Collecting transformers\n",
            "  Downloading transformers-4.31.0-py3-none-any.whl (7.4 MB)\n",
            "\u001b[2K     \u001b[90m━━━━━━━━━━━━━━━━━━━━━━━━━━━━━━━━━━━━━━━━\u001b[0m \u001b[32m7.4/7.4 MB\u001b[0m \u001b[31m12.8 MB/s\u001b[0m eta \u001b[36m0:00:00\u001b[0m\n",
            "\u001b[?25hRequirement already satisfied: filelock in /usr/local/lib/python3.10/dist-packages (from transformers) (3.12.2)\n",
            "Collecting huggingface-hub<1.0,>=0.14.1 (from transformers)\n",
            "  Downloading huggingface_hub-0.16.4-py3-none-any.whl (268 kB)\n",
            "\u001b[2K     \u001b[90m━━━━━━━━━━━━━━━━━━━━━━━━━━━━━━━━━━━━━━\u001b[0m \u001b[32m268.8/268.8 kB\u001b[0m \u001b[31m19.6 MB/s\u001b[0m eta \u001b[36m0:00:00\u001b[0m\n",
            "\u001b[?25hRequirement already satisfied: numpy>=1.17 in /usr/local/lib/python3.10/dist-packages (from transformers) (1.22.4)\n",
            "Requirement already satisfied: packaging>=20.0 in /usr/local/lib/python3.10/dist-packages (from transformers) (23.1)\n",
            "Requirement already satisfied: pyyaml>=5.1 in /usr/local/lib/python3.10/dist-packages (from transformers) (6.0.1)\n",
            "Requirement already satisfied: regex!=2019.12.17 in /usr/local/lib/python3.10/dist-packages (from transformers) (2022.10.31)\n",
            "Requirement already satisfied: requests in /usr/local/lib/python3.10/dist-packages (from transformers) (2.27.1)\n",
            "Collecting tokenizers!=0.11.3,<0.14,>=0.11.1 (from transformers)\n",
            "  Downloading tokenizers-0.13.3-cp310-cp310-manylinux_2_17_x86_64.manylinux2014_x86_64.whl (7.8 MB)\n",
            "\u001b[2K     \u001b[90m━━━━━━━━━━━━━━━━━━━━━━━━━━━━━━━━━━━━━━━━\u001b[0m \u001b[32m7.8/7.8 MB\u001b[0m \u001b[31m34.9 MB/s\u001b[0m eta \u001b[36m0:00:00\u001b[0m\n",
            "\u001b[?25hCollecting safetensors>=0.3.1 (from transformers)\n",
            "  Downloading safetensors-0.3.1-cp310-cp310-manylinux_2_17_x86_64.manylinux2014_x86_64.whl (1.3 MB)\n",
            "\u001b[2K     \u001b[90m━━━━━━━━━━━━━━━━━━━━━━━━━━━━━━━━━━━━━━━━\u001b[0m \u001b[32m1.3/1.3 MB\u001b[0m \u001b[31m51.9 MB/s\u001b[0m eta \u001b[36m0:00:00\u001b[0m\n",
            "\u001b[?25hRequirement already satisfied: tqdm>=4.27 in /usr/local/lib/python3.10/dist-packages (from transformers) (4.65.0)\n",
            "Requirement already satisfied: fsspec in /usr/local/lib/python3.10/dist-packages (from huggingface-hub<1.0,>=0.14.1->transformers) (2023.6.0)\n",
            "Requirement already satisfied: typing-extensions>=3.7.4.3 in /usr/local/lib/python3.10/dist-packages (from huggingface-hub<1.0,>=0.14.1->transformers) (4.7.1)\n",
            "Requirement already satisfied: urllib3<1.27,>=1.21.1 in /usr/local/lib/python3.10/dist-packages (from requests->transformers) (1.26.16)\n",
            "Requirement already satisfied: certifi>=2017.4.17 in /usr/local/lib/python3.10/dist-packages (from requests->transformers) (2023.7.22)\n",
            "Requirement already satisfied: charset-normalizer~=2.0.0 in /usr/local/lib/python3.10/dist-packages (from requests->transformers) (2.0.12)\n",
            "Requirement already satisfied: idna<4,>=2.5 in /usr/local/lib/python3.10/dist-packages (from requests->transformers) (3.4)\n",
            "Installing collected packages: tokenizers, safetensors, huggingface-hub, transformers\n",
            "Successfully installed huggingface-hub-0.16.4 safetensors-0.3.1 tokenizers-0.13.3 transformers-4.31.0\n"
          ]
        }
      ],
      "source": [
        "!pip install transformers"
      ]
    },
    {
      "cell_type": "code",
      "execution_count": 3,
      "id": "SHKF_YR0WnZe",
      "metadata": {
        "colab": {
          "base_uri": "https://localhost:8080/"
        },
        "id": "SHKF_YR0WnZe",
        "outputId": "86a15a1f-b279-497c-c369-5b40854d0791"
      },
      "outputs": [
        {
          "name": "stdout",
          "output_type": "stream",
          "text": [
            "Mounted at /content/drive\n"
          ]
        }
      ],
      "source": [
        "from google.colab import drive\n",
        "drive.mount('/content/drive')"
      ]
    },
    {
      "cell_type": "code",
      "execution_count": 81,
      "id": "a1845fe3-4458-4412-879c-eecf739d1a7f",
      "metadata": {
        "id": "a1845fe3-4458-4412-879c-eecf739d1a7f"
      },
      "outputs": [],
      "source": [
        "import json\n",
        "import torch\n",
        "from transformers import AutoModel, AutoTokenizer\n",
        "from tqdm import tqdm\n",
        "import numpy as np\n",
        "import pandas as pd\n",
        "import gzip\n",
        "import pickle\n",
        "import matplotlib.pyplot as plt\n",
        "from IPython.display import display\n",
        "import seaborn as sns\n",
        "import umap.umap_ as umap\n",
        "import hdbscan\n",
        "from sklearn.metrics import silhouette_samples, silhouette_score\n",
        "sns.set(style='white', context='notebook', rc={'figure.figsize':(5,5)})\n",
        "%matplotlib inline\n",
        "\n",
        "# unicode minus를 사용하지 않기 위한 설정 (minus 깨짐현상 방지)\n",
        "plt.rcParams['axes.unicode_minus'] = False\n",
        "#plt.rcParams['font.family'] = 'Malgun Gothic'"
      ]
    },
    {
      "cell_type": "markdown",
      "id": "l3lFG6KSFR4m",
      "metadata": {
        "id": "l3lFG6KSFR4m"
      },
      "source": [
        "# 1. 임베딩 값 구하기"
      ]
    },
    {
      "cell_type": "code",
      "execution_count": 82,
      "id": "81a7755d-5c34-481f-887c-8b88d88d760b",
      "metadata": {
        "id": "81a7755d-5c34-481f-887c-8b88d88d760b"
      },
      "outputs": [],
      "source": [
        "# json file에서 query와 topic추출\n",
        "\n",
        "with open('/content/drive/MyDrive/topic_extraction/preprocessed.json') as f:\n",
        "    json_data = json.load(f)\n",
        "\n",
        "topic_list = []\n",
        "for i in range(len(json_data)):\n",
        "  topic_list.append(json_data[i]['topic'])\n",
        "\n",
        "model = AutoModel.from_pretrained('BM-K/KoSimCSE-roberta-multitask')  # or 'BM-K/KoSimCSE-bert-multitask'\n",
        "tokenizer = AutoTokenizer.from_pretrained('BM-K/KoSimCSE-roberta-multitask')  # or 'BM-K/KoSimCSE-bert-multitask'\n",
        "\n",
        "# 임베딩값 얻기\n",
        "def get_embeddings(text):\n",
        "    inputs_output = tokenizer(text, max_length=32, padding='max_length', truncation=True, return_tensors='pt')\n",
        "    embeddings_output, _ = model(**inputs_output, return_dict = False)\n",
        "    average_embedding = torch.mean(embeddings_output, dim=1)\n",
        "    result_embedding = average_embedding.tolist()[0]\n",
        "    return result_embedding"
      ]
    },
    {
      "cell_type": "code",
      "execution_count": 87,
      "id": "Jg62wZywcRNT",
      "metadata": {
        "id": "Jg62wZywcRNT"
      },
      "outputs": [],
      "source": [
        "topic_list = topic_list[:100]"
      ]
    },
    {
      "cell_type": "code",
      "execution_count": 88,
      "id": "dJNMd9q-5-fl",
      "metadata": {
        "colab": {
          "base_uri": "https://localhost:8080/"
        },
        "id": "dJNMd9q-5-fl",
        "outputId": "6c296558-027d-4979-ebb8-9dce20250179"
      },
      "outputs": [
        {
          "name": "stdout",
          "output_type": "stream",
          "text": [
            "딥러닝 모델을 활용한 임베딩: \n"
          ]
        },
        {
          "name": "stderr",
          "output_type": "stream",
          "text": [
            "100%|██████████| 100/100 [00:42<00:00,  2.35it/s]\n"
          ]
        }
      ],
      "source": [
        "embed_list = []\n",
        "print('딥러닝 모델을 활용한 임베딩: ')\n",
        "for t in tqdm(topic_list):\n",
        "  embed_list.append(get_embeddings(t))\n",
        "\n",
        "# topic과 이에 대한 kosimCSE 임베딩값으로 구성된 데이터프레임 출력\n",
        "embed_df = pd.DataFrame(embed_list, index=topic_list, columns=range(768))"
      ]
    },
    {
      "cell_type": "code",
      "execution_count": 20,
      "id": "85DksPPmQCrG",
      "metadata": {
        "colab": {
          "base_uri": "https://localhost:8080/",
          "height": 421
        },
        "id": "85DksPPmQCrG",
        "outputId": "69590c22-2268-43ac-ba08-bb3aadfb9237"
      },
      "outputs": [
        {
          "data": {
            "text/html": [
              "\n",
              "\n",
              "  <div id=\"df-9687b8f3-bf0a-4527-9070-c2d26cdf81ab\">\n",
              "    <div class=\"colab-df-container\">\n",
              "      <div>\n",
              "<style scoped>\n",
              "    .dataframe tbody tr th:only-of-type {\n",
              "        vertical-align: middle;\n",
              "    }\n",
              "\n",
              "    .dataframe tbody tr th {\n",
              "        vertical-align: top;\n",
              "    }\n",
              "\n",
              "    .dataframe thead th {\n",
              "        text-align: right;\n",
              "    }\n",
              "</style>\n",
              "<table border=\"1\" class=\"dataframe\">\n",
              "  <thead>\n",
              "    <tr style=\"text-align: right;\">\n",
              "      <th></th>\n",
              "      <th>0</th>\n",
              "      <th>1</th>\n",
              "      <th>2</th>\n",
              "      <th>3</th>\n",
              "      <th>4</th>\n",
              "      <th>5</th>\n",
              "      <th>6</th>\n",
              "      <th>7</th>\n",
              "      <th>8</th>\n",
              "      <th>9</th>\n",
              "      <th>...</th>\n",
              "      <th>758</th>\n",
              "      <th>759</th>\n",
              "      <th>760</th>\n",
              "      <th>761</th>\n",
              "      <th>762</th>\n",
              "      <th>763</th>\n",
              "      <th>764</th>\n",
              "      <th>765</th>\n",
              "      <th>766</th>\n",
              "      <th>767</th>\n",
              "    </tr>\n",
              "  </thead>\n",
              "  <tbody>\n",
              "    <tr>\n",
              "      <th>네트워크 보안의 중요성</th>\n",
              "      <td>0.116927</td>\n",
              "      <td>0.681634</td>\n",
              "      <td>-0.152466</td>\n",
              "      <td>-1.229325</td>\n",
              "      <td>-0.207835</td>\n",
              "      <td>-0.178415</td>\n",
              "      <td>-0.246345</td>\n",
              "      <td>-0.155677</td>\n",
              "      <td>0.533144</td>\n",
              "      <td>-1.019330</td>\n",
              "      <td>...</td>\n",
              "      <td>-0.320203</td>\n",
              "      <td>-0.097272</td>\n",
              "      <td>0.379037</td>\n",
              "      <td>0.216836</td>\n",
              "      <td>-0.191186</td>\n",
              "      <td>-0.645656</td>\n",
              "      <td>0.115158</td>\n",
              "      <td>0.553350</td>\n",
              "      <td>-0.129277</td>\n",
              "      <td>0.094014</td>\n",
              "    </tr>\n",
              "    <tr>\n",
              "      <th>구의 표면적 계산</th>\n",
              "      <td>-0.261554</td>\n",
              "      <td>-0.544069</td>\n",
              "      <td>0.029593</td>\n",
              "      <td>-0.322763</td>\n",
              "      <td>0.089181</td>\n",
              "      <td>-0.231930</td>\n",
              "      <td>0.614833</td>\n",
              "      <td>-0.381301</td>\n",
              "      <td>-0.172061</td>\n",
              "      <td>0.315408</td>\n",
              "      <td>...</td>\n",
              "      <td>0.316477</td>\n",
              "      <td>0.682708</td>\n",
              "      <td>0.796344</td>\n",
              "      <td>-0.225746</td>\n",
              "      <td>-0.396274</td>\n",
              "      <td>-0.571863</td>\n",
              "      <td>0.148959</td>\n",
              "      <td>0.091684</td>\n",
              "      <td>0.007381</td>\n",
              "      <td>-0.248934</td>\n",
              "    </tr>\n",
              "    <tr>\n",
              "      <th>Javascript 함수 코딩</th>\n",
              "      <td>-0.672415</td>\n",
              "      <td>-0.110136</td>\n",
              "      <td>0.128165</td>\n",
              "      <td>-0.043420</td>\n",
              "      <td>-0.596236</td>\n",
              "      <td>-0.454626</td>\n",
              "      <td>-0.107101</td>\n",
              "      <td>0.225913</td>\n",
              "      <td>-0.572920</td>\n",
              "      <td>-0.086770</td>\n",
              "      <td>...</td>\n",
              "      <td>-0.089988</td>\n",
              "      <td>-0.008676</td>\n",
              "      <td>0.172871</td>\n",
              "      <td>-0.389015</td>\n",
              "      <td>-0.641723</td>\n",
              "      <td>-0.523898</td>\n",
              "      <td>-0.311032</td>\n",
              "      <td>0.635408</td>\n",
              "      <td>0.123137</td>\n",
              "      <td>-0.615767</td>\n",
              "    </tr>\n",
              "    <tr>\n",
              "      <th>시간 관리 방법</th>\n",
              "      <td>-0.550109</td>\n",
              "      <td>0.209159</td>\n",
              "      <td>-0.302087</td>\n",
              "      <td>-0.359368</td>\n",
              "      <td>-0.127091</td>\n",
              "      <td>0.039304</td>\n",
              "      <td>0.669858</td>\n",
              "      <td>-0.284322</td>\n",
              "      <td>-0.321336</td>\n",
              "      <td>0.210889</td>\n",
              "      <td>...</td>\n",
              "      <td>0.099965</td>\n",
              "      <td>0.925298</td>\n",
              "      <td>0.084155</td>\n",
              "      <td>-0.058148</td>\n",
              "      <td>-0.559757</td>\n",
              "      <td>0.111023</td>\n",
              "      <td>-0.196492</td>\n",
              "      <td>-0.590140</td>\n",
              "      <td>-0.683530</td>\n",
              "      <td>-0.094504</td>\n",
              "    </tr>\n",
              "    <tr>\n",
              "      <th>마카크의 자신감 있는 대화</th>\n",
              "      <td>-0.436227</td>\n",
              "      <td>0.450526</td>\n",
              "      <td>-0.619839</td>\n",
              "      <td>-0.765269</td>\n",
              "      <td>0.678008</td>\n",
              "      <td>-0.215378</td>\n",
              "      <td>0.325732</td>\n",
              "      <td>-0.133127</td>\n",
              "      <td>-0.581570</td>\n",
              "      <td>0.876298</td>\n",
              "      <td>...</td>\n",
              "      <td>0.825502</td>\n",
              "      <td>0.574572</td>\n",
              "      <td>-0.372033</td>\n",
              "      <td>-0.687054</td>\n",
              "      <td>-0.296533</td>\n",
              "      <td>-1.069723</td>\n",
              "      <td>-0.422591</td>\n",
              "      <td>-0.160051</td>\n",
              "      <td>0.456750</td>\n",
              "      <td>-0.338704</td>\n",
              "    </tr>\n",
              "  </tbody>\n",
              "</table>\n",
              "<p>5 rows × 768 columns</p>\n",
              "</div>\n",
              "      <button class=\"colab-df-convert\" onclick=\"convertToInteractive('df-9687b8f3-bf0a-4527-9070-c2d26cdf81ab')\"\n",
              "              title=\"Convert this dataframe to an interactive table.\"\n",
              "              style=\"display:none;\">\n",
              "\n",
              "  <svg xmlns=\"http://www.w3.org/2000/svg\" height=\"24px\"viewBox=\"0 0 24 24\"\n",
              "       width=\"24px\">\n",
              "    <path d=\"M0 0h24v24H0V0z\" fill=\"none\"/>\n",
              "    <path d=\"M18.56 5.44l.94 2.06.94-2.06 2.06-.94-2.06-.94-.94-2.06-.94 2.06-2.06.94zm-11 1L8.5 8.5l.94-2.06 2.06-.94-2.06-.94L8.5 2.5l-.94 2.06-2.06.94zm10 10l.94 2.06.94-2.06 2.06-.94-2.06-.94-.94-2.06-.94 2.06-2.06.94z\"/><path d=\"M17.41 7.96l-1.37-1.37c-.4-.4-.92-.59-1.43-.59-.52 0-1.04.2-1.43.59L10.3 9.45l-7.72 7.72c-.78.78-.78 2.05 0 2.83L4 21.41c.39.39.9.59 1.41.59.51 0 1.02-.2 1.41-.59l7.78-7.78 2.81-2.81c.8-.78.8-2.07 0-2.86zM5.41 20L4 18.59l7.72-7.72 1.47 1.35L5.41 20z\"/>\n",
              "  </svg>\n",
              "      </button>\n",
              "\n",
              "\n",
              "\n",
              "    <div id=\"df-30097065-2fde-4e3c-a274-dded2aa43083\">\n",
              "      <button class=\"colab-df-quickchart\" onclick=\"quickchart('df-30097065-2fde-4e3c-a274-dded2aa43083')\"\n",
              "              title=\"Suggest charts.\"\n",
              "              style=\"display:none;\">\n",
              "\n",
              "<svg xmlns=\"http://www.w3.org/2000/svg\" height=\"24px\"viewBox=\"0 0 24 24\"\n",
              "     width=\"24px\">\n",
              "    <g>\n",
              "        <path d=\"M19 3H5c-1.1 0-2 .9-2 2v14c0 1.1.9 2 2 2h14c1.1 0 2-.9 2-2V5c0-1.1-.9-2-2-2zM9 17H7v-7h2v7zm4 0h-2V7h2v10zm4 0h-2v-4h2v4z\"/>\n",
              "    </g>\n",
              "</svg>\n",
              "      </button>\n",
              "    </div>\n",
              "\n",
              "<style>\n",
              "  .colab-df-quickchart {\n",
              "    background-color: #E8F0FE;\n",
              "    border: none;\n",
              "    border-radius: 50%;\n",
              "    cursor: pointer;\n",
              "    display: none;\n",
              "    fill: #1967D2;\n",
              "    height: 32px;\n",
              "    padding: 0 0 0 0;\n",
              "    width: 32px;\n",
              "  }\n",
              "\n",
              "  .colab-df-quickchart:hover {\n",
              "    background-color: #E2EBFA;\n",
              "    box-shadow: 0px 1px 2px rgba(60, 64, 67, 0.3), 0px 1px 3px 1px rgba(60, 64, 67, 0.15);\n",
              "    fill: #174EA6;\n",
              "  }\n",
              "\n",
              "  [theme=dark] .colab-df-quickchart {\n",
              "    background-color: #3B4455;\n",
              "    fill: #D2E3FC;\n",
              "  }\n",
              "\n",
              "  [theme=dark] .colab-df-quickchart:hover {\n",
              "    background-color: #434B5C;\n",
              "    box-shadow: 0px 1px 3px 1px rgba(0, 0, 0, 0.15);\n",
              "    filter: drop-shadow(0px 1px 2px rgba(0, 0, 0, 0.3));\n",
              "    fill: #FFFFFF;\n",
              "  }\n",
              "</style>\n",
              "\n",
              "    <script>\n",
              "      async function quickchart(key) {\n",
              "        const containerElement = document.querySelector('#' + key);\n",
              "        const charts = await google.colab.kernel.invokeFunction(\n",
              "            'suggestCharts', [key], {});\n",
              "      }\n",
              "    </script>\n",
              "\n",
              "      <script>\n",
              "\n",
              "function displayQuickchartButton(domScope) {\n",
              "  let quickchartButtonEl =\n",
              "    domScope.querySelector('#df-30097065-2fde-4e3c-a274-dded2aa43083 button.colab-df-quickchart');\n",
              "  quickchartButtonEl.style.display =\n",
              "    google.colab.kernel.accessAllowed ? 'block' : 'none';\n",
              "}\n",
              "\n",
              "        displayQuickchartButton(document);\n",
              "      </script>\n",
              "      <style>\n",
              "    .colab-df-container {\n",
              "      display:flex;\n",
              "      flex-wrap:wrap;\n",
              "      gap: 12px;\n",
              "    }\n",
              "\n",
              "    .colab-df-convert {\n",
              "      background-color: #E8F0FE;\n",
              "      border: none;\n",
              "      border-radius: 50%;\n",
              "      cursor: pointer;\n",
              "      display: none;\n",
              "      fill: #1967D2;\n",
              "      height: 32px;\n",
              "      padding: 0 0 0 0;\n",
              "      width: 32px;\n",
              "    }\n",
              "\n",
              "    .colab-df-convert:hover {\n",
              "      background-color: #E2EBFA;\n",
              "      box-shadow: 0px 1px 2px rgba(60, 64, 67, 0.3), 0px 1px 3px 1px rgba(60, 64, 67, 0.15);\n",
              "      fill: #174EA6;\n",
              "    }\n",
              "\n",
              "    [theme=dark] .colab-df-convert {\n",
              "      background-color: #3B4455;\n",
              "      fill: #D2E3FC;\n",
              "    }\n",
              "\n",
              "    [theme=dark] .colab-df-convert:hover {\n",
              "      background-color: #434B5C;\n",
              "      box-shadow: 0px 1px 3px 1px rgba(0, 0, 0, 0.15);\n",
              "      filter: drop-shadow(0px 1px 2px rgba(0, 0, 0, 0.3));\n",
              "      fill: #FFFFFF;\n",
              "    }\n",
              "  </style>\n",
              "\n",
              "      <script>\n",
              "        const buttonEl =\n",
              "          document.querySelector('#df-9687b8f3-bf0a-4527-9070-c2d26cdf81ab button.colab-df-convert');\n",
              "        buttonEl.style.display =\n",
              "          google.colab.kernel.accessAllowed ? 'block' : 'none';\n",
              "\n",
              "        async function convertToInteractive(key) {\n",
              "          const element = document.querySelector('#df-9687b8f3-bf0a-4527-9070-c2d26cdf81ab');\n",
              "          const dataTable =\n",
              "            await google.colab.kernel.invokeFunction('convertToInteractive',\n",
              "                                                     [key], {});\n",
              "          if (!dataTable) return;\n",
              "\n",
              "          const docLinkHtml = 'Like what you see? Visit the ' +\n",
              "            '<a target=\"_blank\" href=https://colab.research.google.com/notebooks/data_table.ipynb>data table notebook</a>'\n",
              "            + ' to learn more about interactive tables.';\n",
              "          element.innerHTML = '';\n",
              "          dataTable['output_type'] = 'display_data';\n",
              "          await google.colab.output.renderOutput(dataTable, element);\n",
              "          const docLink = document.createElement('div');\n",
              "          docLink.innerHTML = docLinkHtml;\n",
              "          element.appendChild(docLink);\n",
              "        }\n",
              "      </script>\n",
              "    </div>\n",
              "  </div>\n"
            ],
            "text/plain": [
              "                       0         1         2         3         4         5    \\\n",
              "네트워크 보안의 중요성      0.116927  0.681634 -0.152466 -1.229325 -0.207835 -0.178415   \n",
              "구의 표면적 계산        -0.261554 -0.544069  0.029593 -0.322763  0.089181 -0.231930   \n",
              "Javascript 함수 코딩 -0.672415 -0.110136  0.128165 -0.043420 -0.596236 -0.454626   \n",
              "시간 관리 방법         -0.550109  0.209159 -0.302087 -0.359368 -0.127091  0.039304   \n",
              "마카크의 자신감 있는 대화   -0.436227  0.450526 -0.619839 -0.765269  0.678008 -0.215378   \n",
              "\n",
              "                       6         7         8         9    ...       758  \\\n",
              "네트워크 보안의 중요성     -0.246345 -0.155677  0.533144 -1.019330  ... -0.320203   \n",
              "구의 표면적 계산         0.614833 -0.381301 -0.172061  0.315408  ...  0.316477   \n",
              "Javascript 함수 코딩 -0.107101  0.225913 -0.572920 -0.086770  ... -0.089988   \n",
              "시간 관리 방법          0.669858 -0.284322 -0.321336  0.210889  ...  0.099965   \n",
              "마카크의 자신감 있는 대화    0.325732 -0.133127 -0.581570  0.876298  ...  0.825502   \n",
              "\n",
              "                       759       760       761       762       763       764  \\\n",
              "네트워크 보안의 중요성     -0.097272  0.379037  0.216836 -0.191186 -0.645656  0.115158   \n",
              "구의 표면적 계산         0.682708  0.796344 -0.225746 -0.396274 -0.571863  0.148959   \n",
              "Javascript 함수 코딩 -0.008676  0.172871 -0.389015 -0.641723 -0.523898 -0.311032   \n",
              "시간 관리 방법          0.925298  0.084155 -0.058148 -0.559757  0.111023 -0.196492   \n",
              "마카크의 자신감 있는 대화    0.574572 -0.372033 -0.687054 -0.296533 -1.069723 -0.422591   \n",
              "\n",
              "                       765       766       767  \n",
              "네트워크 보안의 중요성      0.553350 -0.129277  0.094014  \n",
              "구의 표면적 계산         0.091684  0.007381 -0.248934  \n",
              "Javascript 함수 코딩  0.635408  0.123137 -0.615767  \n",
              "시간 관리 방법         -0.590140 -0.683530 -0.094504  \n",
              "마카크의 자신감 있는 대화   -0.160051  0.456750 -0.338704  \n",
              "\n",
              "[5 rows x 768 columns]"
            ]
          },
          "execution_count": 20,
          "metadata": {},
          "output_type": "execute_result"
        }
      ],
      "source": [
        "embed_df.head()"
      ]
    },
    {
      "cell_type": "markdown",
      "id": "aa3410a5-4113-42e2-aa85-d1aca9b500bd",
      "metadata": {
        "id": "aa3410a5-4113-42e2-aa85-d1aca9b500bd"
      },
      "source": [
        "# 2. UMAP을 이용한 차원축소"
      ]
    },
    {
      "cell_type": "markdown",
      "id": "1aff521f-b00f-4d45-bc35-af641405e3b0",
      "metadata": {
        "id": "1aff521f-b00f-4d45-bc35-af641405e3b0"
      },
      "source": [
        "## UMAP\n",
        "toplogical 데이터 분석으로 manifold learning기술을 기반으로 한 차원 축소 알고리즘\n",
        "t-SNE, PCA 보다 카테고리 간 분리가 명확하게 되어있으며 빠른 시간에 차원을 축소할 수 있음. 두 가지 주요한 파라미터를 사용:\n",
        "\n",
        "credits: [https://m.blog.naver.com/myohyun/222421460444](https://m.blog.naver.com/myohyun/222421460444)\n",
        "\n",
        "**1) n_neighbors:**<br>\n",
        "초기 고차원 그래프 생성 시에 사용되는 nearest neighbor의 숫자로 가장 중요한 파라미터임\n",
        "n_neighbors의 수가 작으면 : local stracture에 집중\n",
        "n_neighbors의 수가 크면 : global stracture에 집중\n",
        "\n",
        "**2) min_dist:**<br>\n",
        "저차원 공간에서 포인트간의 최소 거리\n",
        "umap이 얼마나 촘촘히 데이터를 묶을건지를 조절\n",
        "min_dist값이 작으면: 포인트들이 촘촘하게 무리지어있게 됨\n",
        "min_dist값이 크면: 포인트들이 상대적으로 느슨하게 퍼져있게 됨\n",
        "n_neighbors가 커질수록 고차원 그래프에서 이웃한 데이터포인트간의 연결을 늘려 데이터의 전체적인 군집을 훨씬 더 정확하게 반영할 수 있음\n",
        "min_dist값이 커지면 클러스터링을 약화시키고 global structure를 덜 강조함\n",
        "\n",
        "**3)n_components:**<br>\n",
        "줄여서 결과값으로 나오는 차원. 꼭 2차원이 아니어도 됨"
      ]
    },
    {
      "cell_type": "code",
      "execution_count": 67,
      "id": "30c75dfb-590c-47cc-9299-2dd4acae7023",
      "metadata": {
        "id": "30c75dfb-590c-47cc-9299-2dd4acae7023"
      },
      "outputs": [],
      "source": [
        "### default setting:\n",
        "#n_neighbors: float (optional, default 15)\n",
        "#min_dist: float (optional, default 0.1)\n",
        "#n_components: int (optional, default 2)\n",
        "def umap_reducer(neighbors, min_distance, reduce_dim, data):\n",
        "  print('UMAP을 통한 차원축소를 시작합니다...')\n",
        "  reducer = umap.UMAP(low_memory = False, n_neighbors=neighbors, min_dist = min_distance, n_components = reduce_dim)\n",
        "  embedding = reducer.fit_transform(data)\n",
        "  # 데이터프레임 형태로 변환\n",
        "  embedding_df = pd.DataFrame(embedding, index = topic_list)\n",
        "  embedding_df.to_csv('../umap_reduce_result.csv', encoding = 'utf-8-sig')\n",
        "  # 시각화\n",
        "  plt.scatter(embedding.T[0], embedding.T[1], color='b')\n",
        "  plt.legend(loc = 2, bbox_to_anchor = (1,1))\n",
        "  plt.savefig('../umap_result.png')\n",
        "  plt.show()\n",
        "  return embedding_df"
      ]
    },
    {
      "cell_type": "code",
      "execution_count": 66,
      "id": "YqLvUA1jQa-V",
      "metadata": {
        "colab": {
          "base_uri": "https://localhost:8080/",
          "height": 450
        },
        "id": "YqLvUA1jQa-V",
        "outputId": "ef0b003a-0878-4367-e368-b37eba761a4c"
      },
      "outputs": [
        {
          "data": {
            "image/png": "[encoded data removed]",
            "text/plain": [
              "<Figure size 500x500 with 1 Axes>"
            ]
          },
          "metadata": {},
          "output_type": "display_data"
        }
      ],
      "source": [
        "umap_df = umap_reducer(neighbors = 5, min_distance = 0.1, reduce_dim = 2, data = embed_df)"
      ]
    },
    {
      "cell_type": "code",
      "execution_count": 37,
      "id": "bee6db42",
      "metadata": {
        "colab": {
          "base_uri": "https://localhost:8080/"
        },
        "id": "bee6db42",
        "outputId": "9ba0de18-c521-475a-a248-0b6502ea0c98"
      },
      "outputs": [
        {
          "name": "stdout",
          "output_type": "stream",
          "text": [
            "원본데이터 수: (100, 768)\n",
            "차원축소한 데이터 수: (100, 2)\n"
          ]
        }
      ],
      "source": [
        "print(f'원본데이터 수: {embed_df.shape}')\n",
        "print(f'차원축소한 데이터 수: {umap_df.shape}')"
      ]
    },
    {
      "cell_type": "markdown",
      "id": "e216428a-d53d-4d6e-a558-40bb7dd830cf",
      "metadata": {
        "id": "e216428a-d53d-4d6e-a558-40bb7dd830cf"
      },
      "source": [
        "# 3. hdbscan을 통한 클러스터링 수행\n",
        "dbscan + 계층적 클러스터링을 합한 개념\n",
        "주요 하이퍼파라미터\n",
        "\n",
        "credit: [https://hdbscan.readthedocs.io/en/latest/parameter_selection.html](https://hdbscan.readthedocs.io/en/latest/parameter_selection.html)\n",
        "\n",
        "**1)min_cluster_size**:<br>\n",
        "하나의 군집에 최소로 들어갈 data 수\n",
        "\n",
        "**2)min_samples**:<br>\n",
        "The larger the value of `min_samples`you provide, the more conservative the clustering – more points will be declared as noise, and clusters will be restricted to progressively more dense areas.\n",
        "\n",
        "**3)cluster_selection_epsilon**:<br>\n",
        "ensures that clusters below the given threshold are not split up any further. The choice of `cluster_selection_epsilon`depends on the given distances between your data points. For example, set the value to 0.5 if you don’t want to separate clusters that are less than 0.5 units apart."
      ]
    },
    {
      "cell_type": "markdown",
      "id": "53415f06-4162-49d2-b170-65f097dda2c5",
      "metadata": {
        "id": "53415f06-4162-49d2-b170-65f097dda2c5"
      },
      "source": [
        "### HDBSCAN의 default value\n",
        "default values:<br>\n",
        "HDBSCAN(algorithm='best', alpha=1.0, approx_min_span_tree=True,\n",
        "    gen_min_span_tree=False, leaf_size=40, memory=Memory(cachedir=None),\n",
        "    metric='euclidean', min_cluster_size=5, min_samples=None, p=None)\n",
        "    \n",
        "#### <b>여러실험 결과 최적의 파라미터값을 찾아내어 군집화 수행</b> ####"
      ]
    },
    {
      "cell_type": "code",
      "execution_count": 74,
      "id": "57a87a2b",
      "metadata": {
        "id": "57a87a2b"
      },
      "outputs": [],
      "source": [
        "def hdbscan_cluster(min_size, min_sample, cluster_distance, data):\n",
        "  print('hdbscan을 활용한 군집화를 시작합니다...')\n",
        "  hdbscan_model = hdbscan.HDBSCAN(min_cluster_size=min_size, min_samples = min_sample, cluster_selection_epsilon = cluster_distance, approx_min_span_tree=True)\n",
        "  hdbscan_model.fit(data)\n",
        "  hdbscan_labels = list(hdbscan_model.labels_)\n",
        "  print(f'총 군집의 개수: {hdbscan_model.labels_.max()}')\n",
        "  data['hdbscan_label'] = hdbscan_model.labels_\n",
        "  data['hdbscan_label'] = data['hdbscan_label'].astype(str)\n",
        "  data.rename(columns = {0: 'x', 1:'y'}, inplace = True)\n",
        "  data.to_csv('./hdbscan_result.csv', encoding = 'utf-8-sig')\n",
        "  sns.set(rc={'figure.figsize':(5,5)})\n",
        "  ax = sns.scatterplot(x = 'x', y = 'y', hue = 'hdbscan_label', data = data, legend = False)\n",
        "  plt.savefig('./hdbscan_scatter.png')\n",
        "  plt.show()\n",
        "  return data"
      ]
    },
    {
      "cell_type": "code",
      "execution_count": 76,
      "id": "eysfSrzVSq-U",
      "metadata": {
        "colab": {
          "base_uri": "https://localhost:8080/",
          "height": 491
        },
        "id": "eysfSrzVSq-U",
        "outputId": "05afee5e-38b0-47b0-87bb-e12ef6ea01cf"
      },
      "outputs": [
        {
          "name": "stdout",
          "output_type": "stream",
          "text": [
            "총 군집의 개수: 13\n"
          ]
        },
        {
          "data": {
            "image/png": "[encoded data removed]",
            "text/plain": [
              "<Figure size 500x500 with 1 Axes>"
            ]
          },
          "metadata": {},
          "output_type": "display_data"
        }
      ],
      "source": [
        "fin_df = hdbscan_cluster(min_size = 2, min_sample = None, cluster_distance = 0.1, data = umap_df)"
      ]
    },
    {
      "cell_type": "markdown",
      "id": "CTeeNaqXUgGW",
      "metadata": {
        "id": "CTeeNaqXUgGW"
      },
      "source": [
        "**평가지표: Silhouette Score**\n",
        "\n",
        "다른 클러스터(**seperation**)에 비해 자신의 클러스터(**cohesion**)와 얼마나 유사한 지 측정합니다. 실루엣 범위는 -1에서 +1까지이며, **값이 높으면 객체가 자체 클러스터와 잘 일치하고 인접 클러스터와 잘 일치하지 않음을 나타냅니다**. **대부분의 개체에 높은 값이 있으면 클러스터링 구성이 적합합니다. 0.25이상이면 됨**"
      ]
    },
    {
      "cell_type": "code",
      "execution_count": 77,
      "id": "ac7bbc04-13ae-4fc5-9447-c55609f91cd2",
      "metadata": {
        "id": "ac7bbc04-13ae-4fc5-9447-c55609f91cd2"
      },
      "outputs": [],
      "source": [
        "# 모든 개별 데이터에 실루엣 계수값 구해 군집별 평균 실루엣계수 구하기\n",
        "# 실루엣 계수값 바탕으로 어느 군집 제거할 것인지 판단\n",
        "\n",
        "def cal_sihouette_score(data):\n",
        "  X=data.iloc[:,:-1]\n",
        "  labels=data.iloc[:,-1]\n",
        "  score_samples=silhouette_samples(X, labels)\n",
        "  data['silhouette_coeff']=score_samples\n",
        "  num_cluster = data.groupby('hdbscan_label')['silhouette_coeff'].count()\n",
        "\n",
        "  fin = data.groupby('hdbscan_label')['silhouette_coeff'].agg('mean')\n",
        "  return fin"
      ]
    },
    {
      "cell_type": "code",
      "execution_count": 78,
      "id": "1NxM6cBGUN1W",
      "metadata": {
        "id": "1NxM6cBGUN1W"
      },
      "outputs": [],
      "source": [
        "shil = cal_sihouette_score(data = fin_df)"
      ]
    },
    {
      "cell_type": "code",
      "execution_count": 92,
      "id": "-sFbJsY1VJTy",
      "metadata": {
        "colab": {
          "base_uri": "https://localhost:8080/",
          "height": 551
        },
        "id": "-sFbJsY1VJTy",
        "outputId": "c9321012-d9d3-4b99-a9ef-66b7f1a55d16"
      },
      "outputs": [
        {
          "data": {
            "text/html": [
              "\n",
              "\n",
              "  <div id=\"df-48d0a3bf-ee1c-438d-bdd3-3b19d91fa5f6\">\n",
              "    <div class=\"colab-df-container\">\n",
              "      <div>\n",
              "<style scoped>\n",
              "    .dataframe tbody tr th:only-of-type {\n",
              "        vertical-align: middle;\n",
              "    }\n",
              "\n",
              "    .dataframe tbody tr th {\n",
              "        vertical-align: top;\n",
              "    }\n",
              "\n",
              "    .dataframe thead th {\n",
              "        text-align: right;\n",
              "    }\n",
              "</style>\n",
              "<table border=\"1\" class=\"dataframe\">\n",
              "  <thead>\n",
              "    <tr style=\"text-align: right;\">\n",
              "      <th></th>\n",
              "      <th>silhouette_coeff</th>\n",
              "    </tr>\n",
              "    <tr>\n",
              "      <th>hdbscan_label</th>\n",
              "      <th></th>\n",
              "    </tr>\n",
              "  </thead>\n",
              "  <tbody>\n",
              "    <tr>\n",
              "      <th>-1</th>\n",
              "      <td>-0.509206</td>\n",
              "    </tr>\n",
              "    <tr>\n",
              "      <th>0</th>\n",
              "      <td>-0.245812</td>\n",
              "    </tr>\n",
              "    <tr>\n",
              "      <th>1</th>\n",
              "      <td>0.105836</td>\n",
              "    </tr>\n",
              "    <tr>\n",
              "      <th>10</th>\n",
              "      <td>0.720601</td>\n",
              "    </tr>\n",
              "    <tr>\n",
              "      <th>11</th>\n",
              "      <td>0.568075</td>\n",
              "    </tr>\n",
              "    <tr>\n",
              "      <th>12</th>\n",
              "      <td>0.406985</td>\n",
              "    </tr>\n",
              "    <tr>\n",
              "      <th>13</th>\n",
              "      <td>0.271799</td>\n",
              "    </tr>\n",
              "    <tr>\n",
              "      <th>2</th>\n",
              "      <td>0.663454</td>\n",
              "    </tr>\n",
              "    <tr>\n",
              "      <th>3</th>\n",
              "      <td>0.448376</td>\n",
              "    </tr>\n",
              "    <tr>\n",
              "      <th>4</th>\n",
              "      <td>0.351182</td>\n",
              "    </tr>\n",
              "    <tr>\n",
              "      <th>5</th>\n",
              "      <td>0.542803</td>\n",
              "    </tr>\n",
              "    <tr>\n",
              "      <th>6</th>\n",
              "      <td>0.686853</td>\n",
              "    </tr>\n",
              "    <tr>\n",
              "      <th>7</th>\n",
              "      <td>0.577722</td>\n",
              "    </tr>\n",
              "    <tr>\n",
              "      <th>8</th>\n",
              "      <td>0.462277</td>\n",
              "    </tr>\n",
              "    <tr>\n",
              "      <th>9</th>\n",
              "      <td>0.299135</td>\n",
              "    </tr>\n",
              "  </tbody>\n",
              "</table>\n",
              "</div>\n",
              "      <button class=\"colab-df-convert\" onclick=\"convertToInteractive('df-48d0a3bf-ee1c-438d-bdd3-3b19d91fa5f6')\"\n",
              "              title=\"Convert this dataframe to an interactive table.\"\n",
              "              style=\"display:none;\">\n",
              "\n",
              "  <svg xmlns=\"http://www.w3.org/2000/svg\" height=\"24px\"viewBox=\"0 0 24 24\"\n",
              "       width=\"24px\">\n",
              "    <path d=\"M0 0h24v24H0V0z\" fill=\"none\"/>\n",
              "    <path d=\"M18.56 5.44l.94 2.06.94-2.06 2.06-.94-2.06-.94-.94-2.06-.94 2.06-2.06.94zm-11 1L8.5 8.5l.94-2.06 2.06-.94-2.06-.94L8.5 2.5l-.94 2.06-2.06.94zm10 10l.94 2.06.94-2.06 2.06-.94-2.06-.94-.94-2.06-.94 2.06-2.06.94z\"/><path d=\"M17.41 7.96l-1.37-1.37c-.4-.4-.92-.59-1.43-.59-.52 0-1.04.2-1.43.59L10.3 9.45l-7.72 7.72c-.78.78-.78 2.05 0 2.83L4 21.41c.39.39.9.59 1.41.59.51 0 1.02-.2 1.41-.59l7.78-7.78 2.81-2.81c.8-.78.8-2.07 0-2.86zM5.41 20L4 18.59l7.72-7.72 1.47 1.35L5.41 20z\"/>\n",
              "  </svg>\n",
              "      </button>\n",
              "\n",
              "\n",
              "\n",
              "    <div id=\"df-6e047c51-2e18-492e-95b9-e35c3677c1cf\">\n",
              "      <button class=\"colab-df-quickchart\" onclick=\"quickchart('df-6e047c51-2e18-492e-95b9-e35c3677c1cf')\"\n",
              "              title=\"Suggest charts.\"\n",
              "              style=\"display:none;\">\n",
              "\n",
              "<svg xmlns=\"http://www.w3.org/2000/svg\" height=\"24px\"viewBox=\"0 0 24 24\"\n",
              "     width=\"24px\">\n",
              "    <g>\n",
              "        <path d=\"M19 3H5c-1.1 0-2 .9-2 2v14c0 1.1.9 2 2 2h14c1.1 0 2-.9 2-2V5c0-1.1-.9-2-2-2zM9 17H7v-7h2v7zm4 0h-2V7h2v10zm4 0h-2v-4h2v4z\"/>\n",
              "    </g>\n",
              "</svg>\n",
              "      </button>\n",
              "    </div>\n",
              "\n",
              "<style>\n",
              "  .colab-df-quickchart {\n",
              "    background-color: #E8F0FE;\n",
              "    border: none;\n",
              "    border-radius: 50%;\n",
              "    cursor: pointer;\n",
              "    display: none;\n",
              "    fill: #1967D2;\n",
              "    height: 32px;\n",
              "    padding: 0 0 0 0;\n",
              "    width: 32px;\n",
              "  }\n",
              "\n",
              "  .colab-df-quickchart:hover {\n",
              "    background-color: #E2EBFA;\n",
              "    box-shadow: 0px 1px 2px rgba(60, 64, 67, 0.3), 0px 1px 3px 1px rgba(60, 64, 67, 0.15);\n",
              "    fill: #174EA6;\n",
              "  }\n",
              "\n",
              "  [theme=dark] .colab-df-quickchart {\n",
              "    background-color: #3B4455;\n",
              "    fill: #D2E3FC;\n",
              "  }\n",
              "\n",
              "  [theme=dark] .colab-df-quickchart:hover {\n",
              "    background-color: #434B5C;\n",
              "    box-shadow: 0px 1px 3px 1px rgba(0, 0, 0, 0.15);\n",
              "    filter: drop-shadow(0px 1px 2px rgba(0, 0, 0, 0.3));\n",
              "    fill: #FFFFFF;\n",
              "  }\n",
              "</style>\n",
              "\n",
              "    <script>\n",
              "      async function quickchart(key) {\n",
              "        const containerElement = document.querySelector('#' + key);\n",
              "        const charts = await google.colab.kernel.invokeFunction(\n",
              "            'suggestCharts', [key], {});\n",
              "      }\n",
              "    </script>\n",
              "\n",
              "      <script>\n",
              "\n",
              "function displayQuickchartButton(domScope) {\n",
              "  let quickchartButtonEl =\n",
              "    domScope.querySelector('#df-6e047c51-2e18-492e-95b9-e35c3677c1cf button.colab-df-quickchart');\n",
              "  quickchartButtonEl.style.display =\n",
              "    google.colab.kernel.accessAllowed ? 'block' : 'none';\n",
              "}\n",
              "\n",
              "        displayQuickchartButton(document);\n",
              "      </script>\n",
              "      <style>\n",
              "    .colab-df-container {\n",
              "      display:flex;\n",
              "      flex-wrap:wrap;\n",
              "      gap: 12px;\n",
              "    }\n",
              "\n",
              "    .colab-df-convert {\n",
              "      background-color: #E8F0FE;\n",
              "      border: none;\n",
              "      border-radius: 50%;\n",
              "      cursor: pointer;\n",
              "      display: none;\n",
              "      fill: #1967D2;\n",
              "      height: 32px;\n",
              "      padding: 0 0 0 0;\n",
              "      width: 32px;\n",
              "    }\n",
              "\n",
              "    .colab-df-convert:hover {\n",
              "      background-color: #E2EBFA;\n",
              "      box-shadow: 0px 1px 2px rgba(60, 64, 67, 0.3), 0px 1px 3px 1px rgba(60, 64, 67, 0.15);\n",
              "      fill: #174EA6;\n",
              "    }\n",
              "\n",
              "    [theme=dark] .colab-df-convert {\n",
              "      background-color: #3B4455;\n",
              "      fill: #D2E3FC;\n",
              "    }\n",
              "\n",
              "    [theme=dark] .colab-df-convert:hover {\n",
              "      background-color: #434B5C;\n",
              "      box-shadow: 0px 1px 3px 1px rgba(0, 0, 0, 0.15);\n",
              "      filter: drop-shadow(0px 1px 2px rgba(0, 0, 0, 0.3));\n",
              "      fill: #FFFFFF;\n",
              "    }\n",
              "  </style>\n",
              "\n",
              "      <script>\n",
              "        const buttonEl =\n",
              "          document.querySelector('#df-48d0a3bf-ee1c-438d-bdd3-3b19d91fa5f6 button.colab-df-convert');\n",
              "        buttonEl.style.display =\n",
              "          google.colab.kernel.accessAllowed ? 'block' : 'none';\n",
              "\n",
              "        async function convertToInteractive(key) {\n",
              "          const element = document.querySelector('#df-48d0a3bf-ee1c-438d-bdd3-3b19d91fa5f6');\n",
              "          const dataTable =\n",
              "            await google.colab.kernel.invokeFunction('convertToInteractive',\n",
              "                                                     [key], {});\n",
              "          if (!dataTable) return;\n",
              "\n",
              "          const docLinkHtml = 'Like what you see? Visit the ' +\n",
              "            '<a target=\"_blank\" href=https://colab.research.google.com/notebooks/data_table.ipynb>data table notebook</a>'\n",
              "            + ' to learn more about interactive tables.';\n",
              "          element.innerHTML = '';\n",
              "          dataTable['output_type'] = 'display_data';\n",
              "          await google.colab.output.renderOutput(dataTable, element);\n",
              "          const docLink = document.createElement('div');\n",
              "          docLink.innerHTML = docLinkHtml;\n",
              "          element.appendChild(docLink);\n",
              "        }\n",
              "      </script>\n",
              "    </div>\n",
              "  </div>\n"
            ],
            "text/plain": [
              "               silhouette_coeff\n",
              "hdbscan_label                  \n",
              "-1                    -0.509206\n",
              "0                     -0.245812\n",
              "1                      0.105836\n",
              "10                     0.720601\n",
              "11                     0.568075\n",
              "12                     0.406985\n",
              "13                     0.271799\n",
              "2                      0.663454\n",
              "3                      0.448376\n",
              "4                      0.351182\n",
              "5                      0.542803\n",
              "6                      0.686853\n",
              "7                      0.577722\n",
              "8                      0.462277\n",
              "9                      0.299135"
            ]
          },
          "execution_count": 92,
          "metadata": {},
          "output_type": "execute_result"
        }
      ],
      "source": [
        "shil.to_frame()"
      ]
    },
    {
      "cell_type": "code",
      "execution_count": 47,
      "id": "JMtRB2jLWukj",
      "metadata": {
        "id": "JMtRB2jLWukj"
      },
      "outputs": [
        {
          "name": "stdout",
          "output_type": "stream",
          "text": [
            "99번 군집 토픽 내용: Index(['다양한 베리류 스무디', '바나나 스무디 만들기', '그린 스무디 레시피 가져오기', '베리 스무디 재료 목록 작성',\n",
            "       '스무디 레시피 준비', '스무디 재료 생각하기', '딸기 스무디 제작', '스무디 레시피 제작', '스무디 재료 선택',\n",
            "       '스무디 만들기 과정', '스무디 재료 선택', '스무디 재료 제안과 이점 설명', '스무디 레시피 개발',\n",
            "       '스무디 레시피 재료 추천', '건강한 아침 스무디 레시피', '스무디 만드는 방법', '스무디 만들기', '스무디 재료 제안',\n",
            "       '딸기 스무디 제조법', '스무디 재료 선택'],\n",
            "      dtype='object')\n",
            "--------------------------------------------------\n",
            "103번 군집 토픽 내용: Index(['요가의 건강상 이점', '요가 팔다리 수', '요가의 이점', '어린이 요가의 이점', '요가의 이점', '요가 초보자 자세',\n",
            "       '요가 인플루언서와 소셜 미디어', '요가 프로그램 디자인', '요가 블록 선택', '요가의 신체 건강 이점',\n",
            "       '효과적인 허리 목 요가 자세', '발의 정렬과 바닥에 밀착하는 자세', '요가 수업 선택', '요가 자세 취하는 방법',\n",
            "       ''요가' 번역', '요가 스튜디오 고객 유치 아이디어 추가', '요가의 정신 건강 이점', '요가의 건강상 이점',\n",
            "       '요가 장비 나열', '명상의 요가 챕터'],\n",
            "      dtype='object')\n",
            "--------------------------------------------------\n",
            "104번 군집 토픽 내용: Index(['단편 스토리 작성', '짧은 스토리 생성', '짧은 스토리 작성', '단편 스토리 작성', '짧은 스토리 작성',\n",
            "       '시즌 3 에피소드 정보 알릭 사하로프', '짧은 스토리 생성', '짧은 서스펜스 스토리의 구조',\n",
            "       '픽사 피치 형식으로 스토리 작성', '장면 시도의 재미 없음', '30초 동안 시나리오 단점 짧은 동영상',\n",
            "       '짧은 스토리 생성', '짧은 스토리 작성', '짧은 창작 스토리 예시', '짧은 스토리 제안', '짧은 스토리 작성',\n",
            "       '짧은 스토리 작성', '미니 스토리 작성', '감정 중심 짧은 스토리 만들기'],\n",
            "      dtype='object')\n",
            "--------------------------------------------------\n",
            "108번 군집 토픽 내용: Index(['이상한 물질이 들어가는 헬륨 풍선', '풍선 정의', '풍선 활용 아이디어', '풍선의 정의', '풍선 터뜨리는 방법',\n",
            "       '풍선 커서의 원 연결'],\n",
            "      dtype='object')\n"
          ]
        }
      ],
      "source": [
        "import pandas as pd\n",
        "dd = pd.read_csv('/home/minalang/umap_hdbscan_clustering/hdbscan_result.csv', index_col=0)\n",
        "\n",
        "cond2 = fin_df['hdbscan_label'] == 99\n",
        "cond3 = fin_df['hdbscan_label'] == 103\n",
        "cond4 = fin_df['hdbscan_label'] == 104\n",
        "cond5 = fin_df['hdbscan_label'] == 108\n",
        "\n",
        "#print(f'101번 군집 토픽 내용: {dd[cond1].index}')\n",
        "#print('-'*50)\n",
        "print(f'99번 군집 토픽 내용: {fin_df[cond2].index}')\n",
        "print('-'*50)\n",
        "print(f'103번 군집 토픽 내용: {fin_df[cond3].index}')\n",
        "print('-'*50)\n",
        "print(f'104번 군집 토픽 내용: {fin_df[cond4].index}')\n",
        "print('-'*50)\n",
        "print(f'108번 군집 토픽 내용: {fin_df[cond5].index}')\n"
      ]
    }
  ],
  "metadata": {
    "colab": {
      "provenance": []
    },
    "kernelspec": {
      "display_name": "Python 3",
      "language": "python",
      "name": "python3"
    },
    "language_info": {
      "codemirror_mode": {
        "name": "ipython",
        "version": 3
      },
      "file_extension": ".py",
      "mimetype": "text/x-python",
      "name": "python",
      "nbconvert_exporter": "python",
      "pygments_lexer": "ipython3",
      "version": "3.7.13"
    },
    "vscode": {
      "interpreter": {
        "hash": "4013afaf7052884816def17c85669ddfabea031affc8c9f344964ea9e2561651"
      }
    }
  },
  "nbformat": 4,
  "nbformat_minor": 5
}
