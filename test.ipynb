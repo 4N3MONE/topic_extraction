{
 "cells": [
  {
   "cell_type": "code",
   "execution_count": 1,
   "metadata": {},
   "outputs": [],
   "source": [
    "from privateManager import get_key\n",
    "import openai\n",
    "from src.chatgpt_handler import ChatGPT\n",
    "\n",
    "chatgpt = ChatGPT(get_key('openai'))"
   ]
  },
  {
   "cell_type": "markdown",
   "metadata": {},
   "source": [
    "# Dummies"
   ]
  },
  {
   "cell_type": "code",
   "execution_count": null,
   "metadata": {},
   "outputs": [],
   "source": [
    "def get_sample_instructions(path='./data/sample.txt'):\n",
    "    sample_instructions = []\n",
    "    with open(path, 'r') as f:\n",
    "        sample_instructions = '\\n'.join(f.readlines())\n",
    "\n",
    "    return sample_instructions"
   ]
  },
  {
   "cell_type": "code",
   "execution_count": null,
   "metadata": {},
   "outputs": [],
   "source": [
    "def reconstruct_kullm(input_path='./data/kullm-v2.jsonl', output_path=None):\n",
    "    import json\n",
    "    data = []\n",
    "    with open(input_path, 'r') as f:\n",
    "        for line in f.readlines():\n",
    "            data.append(json.loads(line))\n",
    "    if output_path == None:\n",
    "        output_path = '.'.join(input_path.split('.')[:-1]) + '.reconstruct.json'\n",
    "    with open(output_path, 'w') as f:\n",
    "        json.dump(data, f)\n",
    "    return output_path"
   ]
  },
  {
   "cell_type": "code",
   "execution_count": null,
   "metadata": {},
   "outputs": [],
   "source": [
    "def apply_topics(topics, start_index, interval):\n",
    "    global data\n",
    "    for i in range(start_index, start_index + interval):\n",
    "        data[i]['topic'] = topics[i - start_index]\n",
    "\n",
    "# def apply_topics(topics):\n",
    "#     global data, start_index, interval\n",
    "#     apply_topics(topics, start_index, interval)"
   ]
  },
  {
   "cell_type": "code",
   "execution_count": null,
   "metadata": {},
   "outputs": [],
   "source": [
    "def format_confirm(example):\n",
    "    text = example[0]\n",
    "    "
   ]
  },
  {
   "cell_type": "code",
   "execution_count": null,
   "metadata": {},
   "outputs": [],
   "source": [
    "reconstruct_kullm(output_path='./data/kullm.json')"
   ]
  },
  {
   "cell_type": "markdown",
   "metadata": {},
   "source": [
    "# Processing"
   ]
  },
  {
   "cell_type": "code",
   "execution_count": 3,
   "metadata": {},
   "outputs": [],
   "source": [
    "def load_data(path='./data/kullm.json'):\n",
    "    import json\n",
    "    with open(path, 'r') as f:\n",
    "        data = json.load(f)\n",
    "    return data"
   ]
  },
  {
   "cell_type": "code",
   "execution_count": 3,
   "metadata": {},
   "outputs": [],
   "source": [
    "chat_response = openai.ChatCompletion.create(\n",
    "model=\"gpt-3.5-turbo-16k\",\n",
    "messages=[\n",
    "    {\"role\": \"system\", \"content\": \"당신은 도움이 필요한 어시스턴트입니다.\"},\n",
    "    {\"role\": \"user\", \"content\": \"안녕\"},\n",
    "]\n",
    ")"
   ]
  },
  {
   "cell_type": "code",
   "execution_count": 5,
   "metadata": {},
   "outputs": [
    {
     "data": {
      "text/plain": [
       "[<OpenAIObject at 0x7faa3022d9a0> JSON: {\n",
       "   \"index\": 0,\n",
       "   \"message\": {\n",
       "     \"role\": \"assistant\",\n",
       "     \"content\": \"\\uc548\\ub155\\ud558\\uc138\\uc694! \\ub3c4\\uc6c0\\uc774 \\ud544\\uc694\\ud558\\uc2e0 \\ub0b4\\uc6a9\\uc774 \\uc788\\uc73c\\uc2e0\\uac00\\uc694? \\ubb34\\uc5c7\\uc744 \\ub3c4\\uc640\\ub4dc\\ub9b4\\uae4c\\uc694?\"\n",
       "   },\n",
       "   \"finish_reason\": \"stop\"\n",
       " }]"
      ]
     },
     "execution_count": 5,
     "metadata": {},
     "output_type": "execute_result"
    }
   ],
   "source": [
    "chat_response[\"choices\"]"
   ]
  },
  {
   "cell_type": "code",
   "execution_count": 11,
   "metadata": {},
   "outputs": [],
   "source": [
    "import time\n",
    "\n",
    "def extract_topic(start_index):\n",
    "    result = []\n",
    "    instructions = data[start_index]\n",
    "    texts = chatgpt.request_to_chatgpt(instructions)[0]\n",
    "    for text in texts :\n",
    "        result.append(text.split('Topic: ')[1].replace('\"',''))\n",
    "    return result"
   ]
  },
  {
   "cell_type": "code",
   "execution_count": 12,
   "metadata": {},
   "outputs": [
    {
     "name": "stderr",
     "output_type": "stream",
     "text": [
      "100%|██████████| 5/5 [00:46<00:00,  9.22s/it]\n"
     ]
    }
   ],
   "source": [
    "from tqdm import tqdm\n",
    "log = open('./log.txt', 'w')\n",
    "data = load_data()\n",
    "interval = 20\n",
    "error_limit = 100\n",
    "topics = []\n",
    "for start_index in tqdm(range(0, 100, interval)):\n",
    "    is_comped = False\n",
    "    error_count = 0\n",
    "    while(not is_comped):\n",
    "        try:\n",
    "            topics.extend(extract_topic(start_index, interval))\n",
    "            is_comped = True\n",
    "        except:\n",
    "            error_count += 1\n",
    "            time.sleep(0.5)\n",
    "            log.write(f'ERROR: {start_index}\\n')\n",
    "            if error_count >= error_limit:\n",
    "                log.write(f'FATAL ERROR: {start_index}\\n')\n",
    "                log.close()\n",
    "                exit()\n",
    "log.close()"
   ]
  },
  {
   "cell_type": "code",
   "execution_count": 13,
   "metadata": {},
   "outputs": [
    {
     "data": {
      "text/plain": [
       "100"
      ]
     },
     "execution_count": 13,
     "metadata": {},
     "output_type": "execute_result"
    }
   ],
   "source": [
    "len(topics)"
   ]
  },
  {
   "cell_type": "code",
   "execution_count": 14,
   "metadata": {},
   "outputs": [
    {
     "data": {
      "text/plain": [
       "['3원색이란 무엇인가요?',\n",
       " '어려운 결정 순간',\n",
       " '원자의 구조',\n",
       " '대기 오염을 줄이는 방법',\n",
       " '건강 유지를 위한 팁',\n",
       " '물의 끓는점',\n",
       " '주어진 숫자 오름차순 정렬',\n",
       " '가장 유명한 화가',\n",
       " '컴퓨터 마더보드 기능',\n",
       " '간결한 문장 수정',\n",
       " '프랑스의 수도',\n",
       " '동물, 식물, 광물 분류',\n",
       " '10줄 시 생성',\n",
       " '동의어 세 개 생성',\n",
       " '정육면체의 표면적 계산',\n",
       " '기장이 뉴스 보도',\n",
       " '배열하여 문법적인 문장',\n",
       " '코드 리버스 엔지니어링',\n",
       " '주어진 데이터의 중앙값 계산',\n",
       " '집 3D 모델 렌더링',\n",
       " '인터넷의 중요성',\n",
       " '북미와 남미 경도',\n",
       " '재생 에너지 사용의 중요성',\n",
       " '캠핑 여행 필수품 목록',\n",
       " '변수 x의 값 계산',\n",
       " 'DNA의 의미',\n",
       " '줄리어스 시저의 사망',\n",
       " '1/4와 4/16의 관계',\n",
       " '재활용 관련 웹사이트 로고',\n",
       " '대공황의 원인',\n",
       " '데이터 개인정보 보호 윤리 해결책',\n",
       " '이상한 것 식별',\n",
       " '맞춤법 및 문법 평가',\n",
       " '잘못된 정의 설명',\n",
       " '단어 임베딩 사용 설명',\n",
       " '녹취 내용 텍스트 변환',\n",
       " '식물의 세포 호흡 과정',\n",
       " '텍스트 어조 분석',\n",
       " '코깅 토크 개념 설명',\n",
       " '방정식 대수식 변환',\n",
       " '온라인 교육의 장점',\n",
       " '쿠바 미사일 위기와 베트남 전쟁 비교',\n",
       " '기쁨을 표현하는 시',\n",
       " '주인공의 진로 결정 이야기',\n",
       " '인공 지능의 개념',\n",
       " '섭씨에서 화씨로 온도 변환',\n",
       " '삼림 벌채 결과 간략 설명',\n",
       " '임의의 단어 목록 생성',\n",
       " '원의 넓이 구하기',\n",
       " '용감한 사람 형용사 목록 생성',\n",
       " '지구 기후 변화 요약',\n",
       " '수질 오염 해결책 브레인스토밍',\n",
       " '찰스 2세 왕 생애와 통치 설명',\n",
       " '가정에서 전기 사용량 절감 계획',\n",
       " '배달 회사 앱 디자인',\n",
       " '질량에 가해지는 중력 힘',\n",
       " '문화적 관행 예시',\n",
       " '최대값 구하기',\n",
       " '6과 2의 곱',\n",
       " '문장의 수동태 변환',\n",
       " '스컹크 양배추 식물 종류',\n",
       " '이진수를 십진수로 변환',\n",
       " '사막 생물 군계 유형',\n",
       " '기후 변화의 영향',\n",
       " '수동태 변환',\n",
       " '액체의 예',\n",
       " '부사 선택',\n",
       " '현재 계속 시제 변환',\n",
       " '은유의 예시',\n",
       " '문장의 어조 분석',\n",
       " '수력 발전에 대한 토론',\n",
       " '사람 John',\n",
       " '수학 문제 구성',\n",
       " '기후 위기 해결을 위한 대체 에너지원',\n",
       " '문장 수정',\n",
       " '새 제품 홍보',\n",
       " '8자 비밀번호 생성',\n",
       " '버블 정렬 알고리즘 설명',\n",
       " '동사 분류',\n",
       " '스페인 수도 찾기',\n",
       " '집 임대의 현명한 선택',\n",
       " '프랑스어로 번역',\n",
       " '프로토콜 위반 인슈던트 분류',\n",
       " 'API의 의미',\n",
       " '대법원과 미국 최고법원',\n",
       " '새끼 고양이의 활동과 품사 할당',\n",
       " '음식물 쓰레기를 줄이는 방법',\n",
       " '비극적인 사건과 인간의 대응에 대한 이야기',\n",
       " '직사각형의 넓이 계산',\n",
       " '로봇 공학 웹 페이지 개발',\n",
       " '18~25세 미국 온라인 쇼핑객',\n",
       " \"'잠'과 관련된 구절이나 관용구\",\n",
       " '서반구 국가 이름 목록',\n",
       " '직원 급여 데이터베이스 설계',\n",
       " '스트레스 감소 팁 목록',\n",
       " '모바일 앱 마케팅 전략',\n",
       " '모바일 애플리케이션 로고 디자인',\n",
       " '3인칭 시점으로 문장 변경',\n",
       " '미래형 문장으로 변경',\n",
       " '불만족 고객과 대화 상황 응답 구성']"
      ]
     },
     "execution_count": 14,
     "metadata": {},
     "output_type": "execute_result"
    }
   ],
   "source": [
    "topics"
   ]
  },
  {
   "cell_type": "code",
   "execution_count": null,
   "metadata": {},
   "outputs": [],
   "source": [
    "import pickle\n",
    "\n",
    "with open('result.p', 'wb') as f:\n",
    "    pickle.dump(topics, f)"
   ]
  },
  {
   "cell_type": "markdown",
   "metadata": {},
   "source": [
    "'정육면체' 'DNA' 하기"
   ]
  },
  {
   "cell_type": "code",
   "execution_count": 6,
   "metadata": {},
   "outputs": [
    {
     "data": {
      "text/plain": [
       "['\"Topic: 프랑스의 수도\"',\n",
       " '\"Topic: 동물, 식물, 광물 분류\"',\n",
       " '\"Topic: 10줄 시 생성\"',\n",
       " '\"Topic: \\'사과하다\\'와 같은 동사 생성\"',\n",
       " '\"Topic: 정육면체의 표면적 계산\"',\n",
       " '\"Topic: 뉴스 보도를 읽은 기장\"',\n",
       " '\"Topic: 갈색 여우의 빠른 뛰기\"',\n",
       " '\"Topic: 코드 리버스 엔지니어링\"',\n",
       " '\"Topic: 주어진 데이터의 중앙값 계산\"',\n",
       " '\"Topic: 집 3D 모델 렌더링\"']"
      ]
     },
     "execution_count": 6,
     "metadata": {},
     "output_type": "execute_result"
    }
   ],
   "source": [
    "data = load_data()\n",
    "extract_topic(10, 10)"
   ]
  },
  {
   "cell_type": "code",
   "execution_count": 23,
   "metadata": {},
   "outputs": [
    {
     "name": "stdout",
     "output_type": "stream",
     "text": [
      "\"Topic: 정의 조건을 대수식으로 변환\"\n"
     ]
    }
   ],
   "source": [
    "for topic in topics[1]:\n",
    "    print(topic)"
   ]
  },
  {
   "cell_type": "code",
   "execution_count": null,
   "metadata": {},
   "outputs": [],
   "source": [
    "start_index = 390\n",
    "interval = 10\n",
    "instructions = data[start_index:start_index+interval]"
   ]
  },
  {
   "cell_type": "code",
   "execution_count": null,
   "metadata": {},
   "outputs": [],
   "source": [
    "topics = request_to_chatgpt(instructions)\n",
    "apply_topics(topics)"
   ]
  },
  {
   "cell_type": "code",
   "execution_count": null,
   "metadata": {},
   "outputs": [],
   "source": [
    "data[start_index : start_index + interval]"
   ]
  }
 ],
 "metadata": {
  "kernelspec": {
   "display_name": "proj_skt_topic",
   "language": "python",
   "name": "python3"
  },
  "language_info": {
   "codemirror_mode": {
    "name": "ipython",
    "version": 3
   },
   "file_extension": ".py",
   "mimetype": "text/x-python",
   "name": "python",
   "nbconvert_exporter": "python",
   "pygments_lexer": "ipython3",
   "version": "3.9.16"
  },
  "orig_nbformat": 4
 },
 "nbformat": 4,
 "nbformat_minor": 2
}
