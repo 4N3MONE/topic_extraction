{
 "cells": [
  {
   "cell_type": "code",
   "execution_count": 11,
   "metadata": {},
   "outputs": [],
   "source": [
    "from privateManager import get_key\n",
    "import openai\n",
    "from src.chatgpt_handler import ChatGPT\n",
    "\n",
    "chatgpt = ChatGPT(get_key('openai'))"
   ]
  },
  {
   "cell_type": "markdown",
   "metadata": {},
   "source": [
    "# Dummies"
   ]
  },
  {
   "cell_type": "code",
   "execution_count": null,
   "metadata": {},
   "outputs": [],
   "source": [
    "def get_sample_instructions(path='./data/sample.txt'):\n",
    "    sample_instructions = []\n",
    "    with open(path, 'r') as f:\n",
    "        sample_instructions = '\\n'.join(f.readlines())\n",
    "\n",
    "    return sample_instructions"
   ]
  },
  {
   "cell_type": "code",
   "execution_count": null,
   "metadata": {},
   "outputs": [],
   "source": [
    "def reconstruct_kullm(input_path='./data/kullm-v2.jsonl', output_path=None):\n",
    "    import json\n",
    "    data = []\n",
    "    with open(input_path, 'r') as f:\n",
    "        for line in f.readlines():\n",
    "            data.append(json.loads(line))\n",
    "    if output_path == None:\n",
    "        output_path = '.'.join(input_path.split('.')[:-1]) + '.reconstruct.json'\n",
    "    with open(output_path, 'w') as f:\n",
    "        json.dump(data, f)\n",
    "    return output_path"
   ]
  },
  {
   "cell_type": "code",
   "execution_count": null,
   "metadata": {},
   "outputs": [],
   "source": [
    "def apply_topics(topics, start_index, interval):\n",
    "    global data\n",
    "    for i in range(start_index, start_index + interval):\n",
    "        data[i]['topic'] = topics[i - start_index]\n",
    "\n",
    "# def apply_topics(topics):\n",
    "#     global data, start_index, interval\n",
    "#     apply_topics(topics, start_index, interval)"
   ]
  },
  {
   "cell_type": "code",
   "execution_count": null,
   "metadata": {},
   "outputs": [],
   "source": [
    "def format_confirm(example):\n",
    "    text = example[0]\n",
    "    "
   ]
  },
  {
   "cell_type": "code",
   "execution_count": null,
   "metadata": {},
   "outputs": [],
   "source": [
    "reconstruct_kullm(output_path='./data/kullm.json')"
   ]
  },
  {
   "cell_type": "markdown",
   "metadata": {},
   "source": [
    "# Processing"
   ]
  },
  {
   "cell_type": "code",
   "execution_count": 12,
   "metadata": {},
   "outputs": [],
   "source": [
    "def load_data(path='./data/kullm.json'):\n",
    "    import json\n",
    "    with open(path, 'r') as f:\n",
    "        data = json.load(f)\n",
    "    return data"
   ]
  },
  {
   "cell_type": "code",
   "execution_count": 16,
   "metadata": {},
   "outputs": [],
   "source": [
    "import time\n",
    "\n",
    "def extract_topic(start_index, interval):\n",
    "    instructions = data[start_index : start_index + interval]\n",
    "    #apply_topics(topics, start_index, interval)\n",
    "    return chatgpt.request_to_chatgpt(instructions)[-interval:]"
   ]
  },
  {
   "cell_type": "code",
   "execution_count": 19,
   "metadata": {},
   "outputs": [
    {
     "name": "stderr",
     "output_type": "stream",
     "text": [
      "100%|██████████| 5/5 [00:31<00:00,  6.36s/it]\n"
     ]
    }
   ],
   "source": [
    "from tqdm import tqdm\n",
    "log = open('./log.txt', 'w')\n",
    "data = load_data()\n",
    "interval = 20\n",
    "error_limit = 100\n",
    "topics = []\n",
    "for start_index in tqdm(range(0, 100, interval)):\n",
    "    is_comped = False\n",
    "    error_count = 0\n",
    "    while(not is_comped):\n",
    "        try:\n",
    "            topics.extend(extract_topic(start_index, interval))\n",
    "            is_comped = True\n",
    "        except:\n",
    "            error_count += 1\n",
    "            time.sleep(0.5)\n",
    "            log.write(f'ERROR: {start_index}\\n')\n",
    "            if error_count >= error_limit:\n",
    "                log.write(f'FATAL ERROR: {start_index}\\n')\n",
    "                exit()\n",
    "log.close()"
   ]
  },
  {
   "cell_type": "code",
   "execution_count": 22,
   "metadata": {},
   "outputs": [
    {
     "data": {
      "text/plain": [
       "100"
      ]
     },
     "execution_count": 22,
     "metadata": {},
     "output_type": "execute_result"
    }
   ],
   "source": [
    "len(topics)"
   ]
  },
  {
   "cell_type": "code",
   "execution_count": null,
   "metadata": {},
   "outputs": [],
   "source": [
    "import pickle\n",
    "\n",
    "with open('result.p', 'wb') as f:\n",
    "    pickle.dump(topics, f)"
   ]
  },
  {
   "cell_type": "markdown",
   "metadata": {},
   "source": [
    "'정육면체' 'DNA' 하기"
   ]
  },
  {
   "cell_type": "code",
   "execution_count": 15,
   "metadata": {},
   "outputs": [
    {
     "data": {
      "text/plain": [
       "['\"Topic: 정육면체 표면적 계산\"',\n",
       " '\"Topic: DNA의 의미\"',\n",
       " '\"Topic: 프랑스의 수도\"',\n",
       " '\"Topic: 동물, 식물, 광물 분류\"',\n",
       " '\"Topic: 10줄 시 생성\"',\n",
       " '\"Topic: \\'사과하다\\'와 같은 의미의 동사 생성\"',\n",
       " '\"Topic: 정육면체 표면적 계산\"',\n",
       " '\"Topic: 뉴스 보도의 기장\"',\n",
       " '\"Topic: 갈색 여우가 빨리 뛰는 문장 생성\"',\n",
       " '\"Topic: 주어진 코드 리버스 엔지니어링\"',\n",
       " '\"Topic: 중앙값 계산하기\"',\n",
       " '\"Topic: 집 3D 모델 렌더링\"']"
      ]
     },
     "execution_count": 15,
     "metadata": {},
     "output_type": "execute_result"
    }
   ],
   "source": [
    "extract_topic(10, 10)"
   ]
  },
  {
   "cell_type": "code",
   "execution_count": 23,
   "metadata": {},
   "outputs": [
    {
     "name": "stdout",
     "output_type": "stream",
     "text": [
      "\"Topic: 정의 조건을 대수식으로 변환\"\n"
     ]
    }
   ],
   "source": [
    "for topic in topics[1]:\n",
    "    print(topic)"
   ]
  },
  {
   "cell_type": "code",
   "execution_count": null,
   "metadata": {},
   "outputs": [],
   "source": [
    "start_index = 390\n",
    "interval = 10\n",
    "instructions = data[start_index:start_index+interval]"
   ]
  },
  {
   "cell_type": "code",
   "execution_count": null,
   "metadata": {},
   "outputs": [],
   "source": [
    "topics = request_to_chatgpt(instructions)\n",
    "apply_topics(topics)"
   ]
  },
  {
   "cell_type": "code",
   "execution_count": null,
   "metadata": {},
   "outputs": [],
   "source": [
    "data[start_index : start_index + interval]"
   ]
  }
 ],
 "metadata": {
  "kernelspec": {
   "display_name": "proj_skt_topic",
   "language": "python",
   "name": "python3"
  },
  "language_info": {
   "codemirror_mode": {
    "name": "ipython",
    "version": 3
   },
   "file_extension": ".py",
   "mimetype": "text/x-python",
   "name": "python",
   "nbconvert_exporter": "python",
   "pygments_lexer": "ipython3",
   "version": "3.8.15"
  },
  "orig_nbformat": 4
 },
 "nbformat": 4,
 "nbformat_minor": 2
}
