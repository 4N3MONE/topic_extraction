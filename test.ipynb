{
 "cells": [
  {
   "cell_type": "code",
   "execution_count": 3,
   "metadata": {},
   "outputs": [],
   "source": [
    "from privateManager import get_key\n",
    "import openai\n",
    "from src.chatgpt_handler import ChatGPT\n",
    "\n",
    "chatgpt = ChatGPT(get_key('openai'))"
   ]
  },
  {
   "cell_type": "code",
   "execution_count": null,
   "metadata": {},
   "outputs": [],
   "source": [
    "def get_sample_instructions(path='./data/sample.txt'):\n",
    "    sample_instructions = []\n",
    "    with open(path, 'r') as f:\n",
    "        sample_instructions = '\\n'.join(f.readlines())\n",
    "\n",
    "    return sample_instructions"
   ]
  },
  {
   "cell_type": "code",
   "execution_count": null,
   "metadata": {},
   "outputs": [],
   "source": [
    "def reconstruct_kullm(input_path='./data/kullm-v2.jsonl', output_path=None):\n",
    "    import json\n",
    "    data = []\n",
    "    with open(input_path, 'r') as f:\n",
    "        for line in f.readlines():\n",
    "            data.append(json.loads(line))\n",
    "    if output_path == None:\n",
    "        output_path = '.'.join(input_path.split('.')[:-1]) + '.reconstruct.json'\n",
    "    with open(output_path, 'w') as f:\n",
    "        json.dump(data, f)\n",
    "    return output_path"
   ]
  },
  {
   "cell_type": "code",
   "execution_count": 4,
   "metadata": {},
   "outputs": [],
   "source": [
    "def load_data(path='./data/kullm.json'):\n",
    "    import json\n",
    "    with open(path, 'r') as f:\n",
    "        data = json.load(f)\n",
    "    return data"
   ]
  },
  {
   "cell_type": "code",
   "execution_count": null,
   "metadata": {},
   "outputs": [],
   "source": [
    "def apply_topics(topics, start_index, interval):\n",
    "    global data\n",
    "    for i in range(start_index, start_index + interval):\n",
    "        data[i]['topic'] = topics[i - start_index]\n",
    "\n",
    "# def apply_topics(topics):\n",
    "#     global data, start_index, interval\n",
    "#     apply_topics(topics, start_index, interval)"
   ]
  },
  {
   "cell_type": "code",
   "execution_count": null,
   "metadata": {},
   "outputs": [],
   "source": [
    "reconstruct_kullm(output_path='./data/kullm.json')"
   ]
  },
  {
   "cell_type": "code",
   "execution_count": 5,
   "metadata": {},
   "outputs": [],
   "source": [
    "import time\n",
    "\n",
    "def extract_topic(start_index, interval):\n",
    "    topics = []\n",
    "    instructions = data[start_index : start_index + interval]\n",
    "    topics.append(chatgpt.request_to_chatgpt(instructions))\n",
    "    #apply_topics(topics, start_index, interval)\n",
    "    return topics"
   ]
  },
  {
   "cell_type": "code",
   "execution_count": null,
   "metadata": {},
   "outputs": [],
   "source": [
    "from tqdm import tqdm\n",
    "data = load_data()\n",
    "interval = 20\n",
    "topics = []\n",
    "for start_index in tqdm(range(0, 5000, interval)):\n",
    "    is_comped = False\n",
    "    while(not is_comped):\n",
    "        try:\n",
    "            topics.extend(extract_topic(start_index, interval))\n",
    "            is_comped = True\n",
    "        except:\n",
    "            print(\"ERROR\")\n",
    "            time.sleep(0.5)"
   ]
  },
  {
   "cell_type": "code",
   "execution_count": null,
   "metadata": {},
   "outputs": [],
   "source": [
    "import pickle\n",
    "\n",
    "with open('result.p', 'wb') as f:\n",
    "    pickle.dump(topics, f)"
   ]
  },
  {
   "cell_type": "code",
   "execution_count": null,
   "metadata": {},
   "outputs": [],
   "source": [
    "topics"
   ]
  },
  {
   "cell_type": "code",
   "execution_count": null,
   "metadata": {},
   "outputs": [],
   "source": [
    "start_index = 390\n",
    "interval = 10\n",
    "instructions = data[start_index:start_index+interval]"
   ]
  },
  {
   "cell_type": "code",
   "execution_count": null,
   "metadata": {},
   "outputs": [],
   "source": [
    "topics = request_to_chatgpt(instructions)\n",
    "apply_topics(topics)"
   ]
  },
  {
   "cell_type": "code",
   "execution_count": null,
   "metadata": {},
   "outputs": [],
   "source": [
    "data[start_index : start_index + interval]"
   ]
  }
 ],
 "metadata": {
  "kernelspec": {
   "display_name": "proj_skt_topic",
   "language": "python",
   "name": "python3"
  },
  "language_info": {
   "codemirror_mode": {
    "name": "ipython",
    "version": 3
   },
   "file_extension": ".py",
   "mimetype": "text/x-python",
   "name": "python",
   "nbconvert_exporter": "python",
   "pygments_lexer": "ipython3",
   "version": "3.8.15"
  },
  "orig_nbformat": 4
 },
 "nbformat": 4,
 "nbformat_minor": 2
}
