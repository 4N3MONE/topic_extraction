{
 "cells": [
  {
   "cell_type": "code",
   "execution_count": 3,
   "metadata": {},
   "outputs": [],
   "source": [
    "from privateManager import get_key\n",
    "import openai\n",
    "\n",
    "openai.api_key = get_key('openai')"
   ]
  },
  {
   "cell_type": "code",
   "execution_count": 4,
   "metadata": {},
   "outputs": [],
   "source": [
    "def encode_prompt(prompt_instructions):\n",
    "    \"\"\"Encode multiple prompt instructions into a single string.\"\"\"\n",
    "    prompt = open(\"./prompt.txt\").read() + \"\\n\"\n",
    "\n",
    "    for idx, task_dict in enumerate(prompt_instructions):\n",
    "        (input, output) = ' '.join([task_dict[\"instruction\"], task_dict[\"input\"]]), task_dict[\"output\"]\n",
    "        prompt += f\"{idx + 1}. 'Instruction': {input}\\n\"\n",
    "        prompt += f\"{idx + 1}. 'Output':\\n{output}\\n\"\n",
    "    return prompt"
   ]
  },
  {
   "cell_type": "code",
   "execution_count": 5,
   "metadata": {},
   "outputs": [],
   "source": [
    "def encode_prompt(prompt_instructions):\n",
    "    \"\"\"Encode multiple prompt instructions into a single string.\"\"\"\n",
    "    prompt = open(\"./prompt.txt\").read() + \"\\n\"\n",
    "\n",
    "    for task_dict in prompt_instructions:\n",
    "        input= ' '.join([task_dict[\"instruction\"], task_dict[\"input\"]])\n",
    "        prompt += f\"'Input': {input}\\n\"\n",
    "    return prompt"
   ]
  },
  {
   "cell_type": "code",
   "execution_count": 6,
   "metadata": {},
   "outputs": [],
   "source": [
    "def get_sample_instructions(path='./data/sample.txt'):\n",
    "    sample_instructions = []\n",
    "    with open(path, 'r') as f:\n",
    "        sample_instructions = '\\n'.join(f.readlines())\n",
    "\n",
    "    return sample_instructions"
   ]
  },
  {
   "cell_type": "code",
   "execution_count": 7,
   "metadata": {},
   "outputs": [],
   "source": [
    "def reconstruct_kullm(input_path='./data/kullm-v2.jsonl', output_path=None):\n",
    "    import json\n",
    "    data = []\n",
    "    with open(input_path, 'r') as f:\n",
    "        for line in f.readlines():\n",
    "            data.append(json.loads(line))\n",
    "    if output_path == None:\n",
    "        output_path = '.'.join(input_path.split('.')[:-1]) + '.reconstruct.json'\n",
    "    with open(output_path, 'w') as f:\n",
    "        json.dump(data, f)\n",
    "    return output_path"
   ]
  },
  {
   "cell_type": "code",
   "execution_count": 8,
   "metadata": {},
   "outputs": [],
   "source": [
    "def load_data(path='./data/kullm.json'):\n",
    "    import json\n",
    "    with open(path, 'r') as f:\n",
    "        data = json.load(f)\n",
    "    return data"
   ]
  },
  {
   "cell_type": "code",
   "execution_count": 28,
   "metadata": {},
   "outputs": [],
   "source": [
    "def request_to_chatgpt(instructions):\n",
    "    import re\n",
    "    prompt = encode_prompt(instructions)\n",
    "    chat_response = openai.ChatCompletion.create(\n",
    "    model=\"gpt-3.5-turbo-16k\",\n",
    "    messages=[\n",
    "        {\"role\": \"system\", \"content\": \"당신은 도움이 필요한 어시스턴트입니다.\"},\n",
    "        {\"role\": \"user\", \"content\": prompt},\n",
    "    ]\n",
    "    )\n",
    "    topics = chat_response['choices'][0]['message']['content'].split('\\\\n')\n",
    "    return topics"
   ]
  },
  {
   "cell_type": "code",
   "execution_count": 10,
   "metadata": {},
   "outputs": [],
   "source": [
    "def apply_topics(topics, start_index, interval):\n",
    "    global data\n",
    "    for i in range(start_index, start_index + interval):\n",
    "        data[i]['topic'] = topics[i - start_index]\n",
    "\n",
    "# def apply_topics(topics):\n",
    "#     global data, start_index, interval\n",
    "#     apply_topics(topics, start_index, interval)"
   ]
  },
  {
   "cell_type": "code",
   "execution_count": 11,
   "metadata": {},
   "outputs": [
    {
     "data": {
      "text/plain": [
       "'./data/kullm.json'"
      ]
     },
     "execution_count": 11,
     "metadata": {},
     "output_type": "execute_result"
    }
   ],
   "source": [
    "reconstruct_kullm(output_path='./data/kullm.json')"
   ]
  },
  {
   "cell_type": "code",
   "execution_count": 32,
   "metadata": {},
   "outputs": [
    {
     "name": "stderr",
     "output_type": "stream",
     "text": [
      "100%|██████████| 5/5 [00:24<00:00,  4.97s/it]\n"
     ]
    }
   ],
   "source": [
    "import time\n",
    "from tqdm import tqdm\n",
    "data = load_data()\n",
    "interval = 10\n",
    "topics = []\n",
    "for start_index in tqdm(range(0, 50, interval)):\n",
    "    instructions = data[start_index : start_index + interval]\n",
    "    topics.append(request_to_chatgpt(instructions))\n",
    "    #apply_topics(topics, start_index, interval)\n",
    "    time.sleep(1)"
   ]
  },
  {
   "cell_type": "code",
   "execution_count": null,
   "metadata": {},
   "outputs": [],
   "source": [
    "import pickle\n",
    "\n",
    "with open('result.p', 'wb') as f:\n",
    "    pickle.dump(topics, f)"
   ]
  },
  {
   "cell_type": "code",
   "execution_count": 33,
   "metadata": {},
   "outputs": [
    {
     "data": {
      "text/plain": [
       "[['\"Topic: 정육면체 표면적 계산\"\\n\\n\"Topic: DNA의 의미\"\\n\\n\"Topic: 3원색의 의미\"\\n\\n\"Topic: 어려운 결정 순간\"\\n\\n\"Topic: 원자 구조 설명\"\\n\\n\"Topic: 대기 오염 감소 방법\"\\n\\n\"Topic: 건강을 유지하는 팁\"\\n\\n\"Topic: 물의 끓는점\"\\n\\n\"Topic: 주어진 숫자 오름차순 정렬\"\\n\\n\"Topic: 세계에서 유명한 화가\"\\n\\n\"Topic: 컴퓨터 마더보드 기능 해설\"\\n\\n\"Topic: 간결하게 문장 수정\"'],\n",
       " ['\"Topic: 정육면체의 표면적 계산\"\\n\"Topic: DNA의 의미\"\\n\"Topic: 프랑스의 수도\"\\n\"Topic: 동물, 식물, 광물 분류\"\\n\"Topic: 시 10줄 생성\"\\n\"Topic: \\'사과하다\\'와 같은 의미의 동사 생성\"\\n\"Topic: 정육면체의 표면적 계산\"\\n\"Topic: 능동태로 뉴스 보도 읽기\"\\n\"Topic: 단어 배열하여 올바른 문장 생성\"\\n\"Topic: 코드 리버스 엔지니어링\"\\n\"Topic: 주어진 데이터 중앙값 계산\"\\n\"Topic: 집 3D 모델 렌더링\"'],\n",
       " ['\"Topic: 인터넷의 보편화와 기능\"\\n\"Topic: 북미와 남미 경도 식별\"\\n\"Topic: 재생 에너지 사용의 중요성\"\\n\"Topic: 캠핑 여행 필수품 목록\"\\n\"Topic: x의 값 구하기\"\\n\"Topic: DNA의 의미\"\\n\"Topic: 줄리어스 시저의 사망\"\\n\"Topic: 4/16의 1/4 비율 설명\"\\n\"Topic: 재활용 웹사이트 로고 디자인\"\\n\"Topic: 대공황 원인 토론\"'],\n",
       " ['\"Topic: 정육면체 표면적 계산\"\\n\"Topic: DNA의 의미\"\\n\"Topic: 개인정보 보호 윤리적 해결책\"\\n\"Topic: SNS 이상한 것 식별\"\\n\"Topic: 문법 및 맞춤법 평가\"\\n\"Topic: 정의 오류 설명\"\\n\"Topic: 자연어 처리 단어 임베딩\"\\n\"Topic: 녹취 내용 텍스트 변환\"\\n\"Topic: 식물의 세포 호흡 과정 설명\"\\n\"Topic: 텍스트 어조 분석\"\\n\"Topic: 코깅 토크 개념 설명\"\\n\"Topic: 방정식 대수식 변환\"'],\n",
       " ['\"Topic: 온라인 교육의 장점\"\\n\"Topic: 쿠바 미사일 위기와 베트남 전쟁 비교\"\\n\"Topic: 기쁨을 표현하는 시\"\\n\"Topic: 주인공의 진로 결정 이야기\"\\n\"Topic: 인공 지능에 대한 간단한 설명\"\\n\"Topic: 섭씨에서 화씨로 온도 변환\"\\n\"Topic: 삼림 벌채 결과 설명\"\\n\"Topic: 임의의 단어 목록 생성\"\\n\"Topic: 반지름이 주어진 원의 넓이 계산\"\\n\"Topic: 용감한 사람을 묘사하는 형용사 목록 생성\"']]"
      ]
     },
     "execution_count": 33,
     "metadata": {},
     "output_type": "execute_result"
    }
   ],
   "source": [
    "topics"
   ]
  },
  {
   "cell_type": "code",
   "execution_count": null,
   "metadata": {},
   "outputs": [],
   "source": [
    "start_index = 390\n",
    "interval = 10\n",
    "instructions = data[start_index:start_index+interval]"
   ]
  },
  {
   "cell_type": "code",
   "execution_count": null,
   "metadata": {},
   "outputs": [],
   "source": [
    "topics = request_to_chatgpt(instructions)\n",
    "apply_topics(topics)"
   ]
  },
  {
   "cell_type": "code",
   "execution_count": null,
   "metadata": {},
   "outputs": [],
   "source": [
    "data[start_index : start_index + interval]"
   ]
  }
 ],
 "metadata": {
  "kernelspec": {
   "display_name": "proj_skt_topic",
   "language": "python",
   "name": "python3"
  },
  "language_info": {
   "codemirror_mode": {
    "name": "ipython",
    "version": 3
   },
   "file_extension": ".py",
   "mimetype": "text/x-python",
   "name": "python",
   "nbconvert_exporter": "python",
   "pygments_lexer": "ipython3",
   "version": "3.8.15"
  },
  "orig_nbformat": 4
 },
 "nbformat": 4,
 "nbformat_minor": 2
}
